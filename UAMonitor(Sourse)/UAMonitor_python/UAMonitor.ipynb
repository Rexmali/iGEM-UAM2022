{
 "cells": [
  {
   "cell_type": "code",
   "execution_count": 1,
   "id": "5d1f0d0e-6210-4ebf-ab3a-e0f74410eecd",
   "metadata": {},
   "outputs": [
    {
     "ename": "SyntaxError",
     "evalue": "invalid syntax (Temp/ipykernel_16084/871295249.py, line 1)",
     "output_type": "error",
     "traceback": [
      "\u001b[1;36m  File \u001b[1;32m\"C:\\Users\\drago\\AppData\\Local\\Temp/ipykernel_16084/871295249.py\"\u001b[1;36m, line \u001b[1;32m1\u001b[0m\n\u001b[1;33m    -m tkinter\u001b[0m\n\u001b[1;37m       ^\u001b[0m\n\u001b[1;31mSyntaxError\u001b[0m\u001b[1;31m:\u001b[0m invalid syntax\n"
     ]
    }
   ],
   "source": [
    "-m tkinter"
   ]
  },
  {
   "cell_type": "code",
   "execution_count": 2,
   "id": "20e79ce3-5137-4575-ad21-cd81216fbf76",
   "metadata": {},
   "outputs": [],
   "source": [
    "from tkinter import *"
   ]
  },
  {
   "cell_type": "code",
   "execution_count": 1,
   "id": "96ea6aa8-4a50-4278-8752-736ca32ea6b5",
   "metadata": {},
   "outputs": [],
   "source": [
    "from tkinter import *\n",
    "from tkinter import ttk\n",
    "root = Tk()\n",
    "frm = ttk.Frame(root, padding=160)\n",
    "frm.grid()\n",
    "ttk.Label(frm, text=\"Hello World!\").grid(column=0, row=0)\n",
    "ttk.Button(frm, text=\"Quit\", command=root.destroy).grid(column=1, row=0)\n",
    "root.mainloop()"
   ]
  },
  {
   "cell_type": "code",
   "execution_count": null,
   "id": "f9350f28-1426-40c0-ab72-c77f23983fa4",
   "metadata": {},
   "outputs": [],
   "source": [
    "from tkinter import *\n",
    "from numpy import *\n",
    "from matplotlib.pyplot import *\n",
    "\n",
    "root = Tk()\n",
    "root.title('UAMonitor')\n",
    "root.iconbitmap('Documents/Mauricio/iGEM/Arduino/Espectro_Foto/Logo blanco iGEM.ico')\n",
    "root.geometry(\"800x800\")\n",
    "\n",
    "def graph():\n",
    "  t=linspace(0,5,100)\n",
    "  y=sin(2*pi*1*t)\n",
    "  plot(t,y)\n",
    "  show()\n",
    "  return\n",
    "\n",
    "my_button= Button(root, command=graph)\n",
    "my_button.pack()\n",
    "\n",
    "root.mainloop()"
   ]
  },
  {
   "cell_type": "code",
   "execution_count": 7,
   "id": "3920798f-e0c2-40e9-a0aa-3970dc85280e",
   "metadata": {},
   "outputs": [],
   "source": [
    "import tkinter as tk\n",
    "\n",
    "class App(tk.Frame):\n",
    "    def __init__(self, master):\n",
    "        super().__init__(master)\n",
    "        self.pack()\n",
    "\n",
    "        self.entrythingy = tk.Entry()\n",
    "        self.entrythingy.pack()\n",
    "\n",
    "        # Create the application variable.\n",
    "        self.contents = tk.StringVar()\n",
    "        # Set it to some value.\n",
    "        self.contents.set(\"this is a variable\")\n",
    "        # Tell the entry widget to watch this variable.\n",
    "        self.entrythingy[\"textvariable\"] = self.contents\n",
    "\n",
    "        # Define a callback for when the user hits return.\n",
    "        # It prints the current value of the variable.\n",
    "        self.entrythingy.bind('<Key-Return>',\n",
    "                             self.print_contents)\n",
    "\n",
    "    def print_contents(self, event):\n",
    "        print(\"Hi. The current entry content is:\",\n",
    "              self.contents.get())\n",
    "\n",
    "root = tk.Tk()\n",
    "myapp = App(root)\n",
    "myapp.mainloop()"
   ]
  },
  {
   "cell_type": "code",
   "execution_count": 1,
   "id": "ec18ab4c-62aa-473d-bdf0-41400de2f910",
   "metadata": {},
   "outputs": [],
   "source": [
    "import tkinter as tk\n",
    "from tkinter import ttk\n",
    "root = tk.Tk()\n",
    "root.config(width=300, height=200)\n",
    "root.title(\"Botón en Tk\")\n",
    "boton = ttk.Button(text=\"¡Hola, mundo!\")\n",
    "boton.place(x=50, y=50)\n",
    "root.mainloop()"
   ]
  },
  {
   "cell_type": "code",
   "execution_count": 4,
   "id": "fbdfe6ee-2d57-4338-9a35-dfff25ecfa43",
   "metadata": {},
   "outputs": [
    {
     "data": {
      "image/png": "[encoded data removed]",
      "text/plain": [
       "<Figure size 432x288 with 1 Axes>"
      ]
     },
     "metadata": {
      "needs_background": "light"
     },
     "output_type": "display_data"
    },
    {
     "ename": "KeyboardInterrupt",
     "evalue": "",
     "output_type": "error",
     "traceback": [
      "\u001b[1;31m---------------------------------------------------------------------------\u001b[0m",
      "\u001b[1;31mKeyboardInterrupt\u001b[0m                         Traceback (most recent call last)",
      "\u001b[1;32m~\\AppData\\Local\\Temp/ipykernel_18976/380635845.py\u001b[0m in \u001b[0;36m<module>\u001b[1;34m\u001b[0m\n\u001b[0;32m     14\u001b[0m \u001b[0mboton\u001b[0m \u001b[1;33m=\u001b[0m \u001b[0mttk\u001b[0m\u001b[1;33m.\u001b[0m\u001b[0mButton\u001b[0m\u001b[1;33m(\u001b[0m\u001b[0mtext\u001b[0m\u001b[1;33m=\u001b[0m\u001b[1;34m\"¡Hola, mundo!\"\u001b[0m\u001b[1;33m,\u001b[0m \u001b[0mcommand\u001b[0m\u001b[1;33m=\u001b[0m\u001b[0msaludar\u001b[0m\u001b[1;33m)\u001b[0m\u001b[1;33m\u001b[0m\u001b[1;33m\u001b[0m\u001b[0m\n\u001b[0;32m     15\u001b[0m \u001b[0mboton\u001b[0m\u001b[1;33m.\u001b[0m\u001b[0mplace\u001b[0m\u001b[1;33m(\u001b[0m\u001b[0mx\u001b[0m\u001b[1;33m=\u001b[0m\u001b[1;36m50\u001b[0m\u001b[1;33m,\u001b[0m \u001b[0my\u001b[0m\u001b[1;33m=\u001b[0m\u001b[1;36m50\u001b[0m\u001b[1;33m)\u001b[0m\u001b[1;33m\u001b[0m\u001b[1;33m\u001b[0m\u001b[0m\n\u001b[1;32m---> 16\u001b[1;33m \u001b[0mroot\u001b[0m\u001b[1;33m.\u001b[0m\u001b[0mmainloop\u001b[0m\u001b[1;33m(\u001b[0m\u001b[1;33m)\u001b[0m\u001b[1;33m\u001b[0m\u001b[1;33m\u001b[0m\u001b[0m\n\u001b[0m",
      "\u001b[1;32m~\\anaconda3\\lib\\tkinter\\__init__.py\u001b[0m in \u001b[0;36mmainloop\u001b[1;34m(self, n)\u001b[0m\n\u001b[0;32m   1427\u001b[0m     \u001b[1;32mdef\u001b[0m \u001b[0mmainloop\u001b[0m\u001b[1;33m(\u001b[0m\u001b[0mself\u001b[0m\u001b[1;33m,\u001b[0m \u001b[0mn\u001b[0m\u001b[1;33m=\u001b[0m\u001b[1;36m0\u001b[0m\u001b[1;33m)\u001b[0m\u001b[1;33m:\u001b[0m\u001b[1;33m\u001b[0m\u001b[1;33m\u001b[0m\u001b[0m\n\u001b[0;32m   1428\u001b[0m         \u001b[1;34m\"\"\"Call the mainloop of Tk.\"\"\"\u001b[0m\u001b[1;33m\u001b[0m\u001b[1;33m\u001b[0m\u001b[0m\n\u001b[1;32m-> 1429\u001b[1;33m         \u001b[0mself\u001b[0m\u001b[1;33m.\u001b[0m\u001b[0mtk\u001b[0m\u001b[1;33m.\u001b[0m\u001b[0mmainloop\u001b[0m\u001b[1;33m(\u001b[0m\u001b[0mn\u001b[0m\u001b[1;33m)\u001b[0m\u001b[1;33m\u001b[0m\u001b[1;33m\u001b[0m\u001b[0m\n\u001b[0m\u001b[0;32m   1430\u001b[0m \u001b[1;33m\u001b[0m\u001b[0m\n\u001b[0;32m   1431\u001b[0m     \u001b[1;32mdef\u001b[0m \u001b[0mquit\u001b[0m\u001b[1;33m(\u001b[0m\u001b[0mself\u001b[0m\u001b[1;33m)\u001b[0m\u001b[1;33m:\u001b[0m\u001b[1;33m\u001b[0m\u001b[1;33m\u001b[0m\u001b[0m\n",
      "\u001b[1;31mKeyboardInterrupt\u001b[0m: "
     ]
    }
   ],
   "source": [
    "import tkinter as tk\n",
    "from tkinter import messagebox, ttk\n",
    "from numpy import *\n",
    "from matplotlib.pyplot import *\n",
    "def saludar():\n",
    "  t=linspace(0,5,100)\n",
    "  y=sin(2*pi*1*t)\n",
    "  plot(t,y)\n",
    "  show()\n",
    "  return\n",
    "root = tk.Tk()\n",
    "root.config(width=300, height=200)\n",
    "root.title(\"Botón en Tk\")\n",
    "boton = ttk.Button(text=\"¡Hola, mundo!\", command=saludar)\n",
    "boton.place(x=50, y=50)\n",
    "root.mainloop()"
   ]
  },
  {
   "cell_type": "code",
   "execution_count": null,
   "id": "a37025be-da74-4ed3-9f61-d3ad578c595b",
   "metadata": {},
   "outputs": [],
   "source": [
    "from tkinter import *\n",
    "from PIL import ImageTK,Image\n",
    "import numpy as np\n",
    "import mathplotlib.pyplot as plt\n",
    "\n",
    "root = Tk()\n",
    "root.title('UAMonitor')\n",
    "root.iconbitmap('c://')"
   ]
  },
  {
   "cell_type": "code",
   "execution_count": 3,
   "id": "ddbca8ff-870c-4df8-bffd-08f0300dbbf8",
   "metadata": {},
   "outputs": [
    {
     "ename": "TclError",
     "evalue": "bitmap \"Documents/Mauricio/iGEM/Arduino/Espectro_Foto/Logo blanco iGEM.ico\" not defined",
     "output_type": "error",
     "traceback": [
      "\u001b[1;31m---------------------------------------------------------------------------\u001b[0m",
      "\u001b[1;31mTclError\u001b[0m                                  Traceback (most recent call last)",
      "\u001b[1;32m~\\AppData\\Local\\Temp/ipykernel_3572/2824299161.py\u001b[0m in \u001b[0;36m<module>\u001b[1;34m\u001b[0m\n\u001b[0;32m     12\u001b[0m \u001b[0mroot\u001b[0m \u001b[1;33m=\u001b[0m \u001b[0mtkinter\u001b[0m\u001b[1;33m.\u001b[0m\u001b[0mTk\u001b[0m\u001b[1;33m(\u001b[0m\u001b[1;33m)\u001b[0m\u001b[1;33m\u001b[0m\u001b[1;33m\u001b[0m\u001b[0m\n\u001b[0;32m     13\u001b[0m \u001b[0mroot\u001b[0m\u001b[1;33m.\u001b[0m\u001b[0mwm_title\u001b[0m\u001b[1;33m(\u001b[0m\u001b[1;34m\"UAMonitor\"\u001b[0m\u001b[1;33m)\u001b[0m\u001b[1;33m\u001b[0m\u001b[1;33m\u001b[0m\u001b[0m\n\u001b[1;32m---> 14\u001b[1;33m \u001b[0mroot\u001b[0m\u001b[1;33m.\u001b[0m\u001b[0miconbitmap\u001b[0m\u001b[1;33m(\u001b[0m\u001b[1;34m'Documents/Mauricio/iGEM/Arduino/Espectro_Foto/Logo blanco iGEM.ico'\u001b[0m\u001b[1;33m)\u001b[0m\u001b[1;33m\u001b[0m\u001b[1;33m\u001b[0m\u001b[0m\n\u001b[0m\u001b[0;32m     15\u001b[0m \u001b[1;33m\u001b[0m\u001b[0m\n\u001b[0;32m     16\u001b[0m \u001b[0mfig\u001b[0m \u001b[1;33m=\u001b[0m \u001b[0mFigure\u001b[0m\u001b[1;33m(\u001b[0m\u001b[0mfigsize\u001b[0m\u001b[1;33m=\u001b[0m\u001b[1;33m(\u001b[0m\u001b[1;36m5\u001b[0m\u001b[1;33m,\u001b[0m \u001b[1;36m4\u001b[0m\u001b[1;33m)\u001b[0m\u001b[1;33m,\u001b[0m \u001b[0mdpi\u001b[0m\u001b[1;33m=\u001b[0m\u001b[1;36m100\u001b[0m\u001b[1;33m)\u001b[0m\u001b[1;33m\u001b[0m\u001b[1;33m\u001b[0m\u001b[0m\n",
      "\u001b[1;32m~\\anaconda3\\lib\\tkinter\\__init__.py\u001b[0m in \u001b[0;36mwm_iconbitmap\u001b[1;34m(self, bitmap, default)\u001b[0m\n\u001b[0;32m   2078\u001b[0m             \u001b[1;32mreturn\u001b[0m \u001b[0mself\u001b[0m\u001b[1;33m.\u001b[0m\u001b[0mtk\u001b[0m\u001b[1;33m.\u001b[0m\u001b[0mcall\u001b[0m\u001b[1;33m(\u001b[0m\u001b[1;34m'wm'\u001b[0m\u001b[1;33m,\u001b[0m \u001b[1;34m'iconbitmap'\u001b[0m\u001b[1;33m,\u001b[0m \u001b[0mself\u001b[0m\u001b[1;33m.\u001b[0m\u001b[0m_w\u001b[0m\u001b[1;33m,\u001b[0m \u001b[1;34m'-default'\u001b[0m\u001b[1;33m,\u001b[0m \u001b[0mdefault\u001b[0m\u001b[1;33m)\u001b[0m\u001b[1;33m\u001b[0m\u001b[1;33m\u001b[0m\u001b[0m\n\u001b[0;32m   2079\u001b[0m         \u001b[1;32melse\u001b[0m\u001b[1;33m:\u001b[0m\u001b[1;33m\u001b[0m\u001b[1;33m\u001b[0m\u001b[0m\n\u001b[1;32m-> 2080\u001b[1;33m             \u001b[1;32mreturn\u001b[0m \u001b[0mself\u001b[0m\u001b[1;33m.\u001b[0m\u001b[0mtk\u001b[0m\u001b[1;33m.\u001b[0m\u001b[0mcall\u001b[0m\u001b[1;33m(\u001b[0m\u001b[1;34m'wm'\u001b[0m\u001b[1;33m,\u001b[0m \u001b[1;34m'iconbitmap'\u001b[0m\u001b[1;33m,\u001b[0m \u001b[0mself\u001b[0m\u001b[1;33m.\u001b[0m\u001b[0m_w\u001b[0m\u001b[1;33m,\u001b[0m \u001b[0mbitmap\u001b[0m\u001b[1;33m)\u001b[0m\u001b[1;33m\u001b[0m\u001b[1;33m\u001b[0m\u001b[0m\n\u001b[0m\u001b[0;32m   2081\u001b[0m \u001b[1;33m\u001b[0m\u001b[0m\n\u001b[0;32m   2082\u001b[0m     \u001b[0miconbitmap\u001b[0m \u001b[1;33m=\u001b[0m \u001b[0mwm_iconbitmap\u001b[0m\u001b[1;33m\u001b[0m\u001b[1;33m\u001b[0m\u001b[0m\n",
      "\u001b[1;31mTclError\u001b[0m: bitmap \"Documents/Mauricio/iGEM/Arduino/Espectro_Foto/Logo blanco iGEM.ico\" not defined"
     ]
    }
   ],
   "source": [
    "import tkinter\n",
    "\n",
    "from matplotlib.backends.backend_tkagg import (\n",
    "    FigureCanvasTkAgg, NavigationToolbar2Tk)\n",
    "# Implement the default Matplotlib key bindings.\n",
    "from matplotlib.backend_bases import key_press_handler\n",
    "from matplotlib.figure import Figure\n",
    "\n",
    "import numpy as np\n",
    "\n",
    "\n",
    "root = tkinter.Tk()\n",
    "root.wm_title(\"UAMonitor\")\n",
    "root.iconbitmap('Documents/Mauricio/iGEM/Arduino/Espectro_Foto/Logo blanco iGEM.ico')\n",
    "\n",
    "fig = Figure(figsize=(5, 4), dpi=100)\n",
    "t = np.arange(0, 3, .01)\n",
    "fig.add_subplot(111).plot(t, 2 * np.sin(2 * np.pi * t))\n",
    "\n",
    "canvas = FigureCanvasTkAgg(fig, master=root)  # A tk.DrawingArea.\n",
    "canvas.draw()\n",
    "canvas.get_tk_widget().pack(side=tkinter.TOP, fill=tkinter.BOTH, expand=1)\n",
    "\n",
    "toolbar = NavigationToolbar2Tk(canvas, root)\n",
    "toolbar.update()\n",
    "canvas.get_tk_widget().pack(side=tkinter.TOP, fill=tkinter.BOTH, expand=1)\n",
    "\n",
    "\n",
    "def on_key_press(event):\n",
    "    print(\"you pressed {}\".format(event.key))\n",
    "    key_press_handler(event, canvas, toolbar)\n",
    "\n",
    "\n",
    "canvas.mpl_connect(\"key_press_event\", on_key_press)\n",
    "\n",
    "\n",
    "def _quit():\n",
    "    root.quit()     # stops mainloop\n",
    "    root.destroy()  # this is necessary on Windows to prevent\n",
    "                    # Fatal Python Error: PyEval_RestoreThread: NULL tstate\n",
    "\n",
    "\n",
    "button = tkinter.Button(master=root, text=\"Quit\", command=_quit)\n",
    "button.pack(side=tkinter.BOTTOM)\n",
    "\n",
    "tkinter.mainloop()\n",
    "# If you put root.destroy() here, it will cause an error if the window is\n",
    "# closed with the window manager."
   ]
  },
  {
   "cell_type": "code",
   "execution_count": 2,
   "id": "86bdc7f5-7fe7-4620-8692-bf4b78e856bf",
   "metadata": {},
   "outputs": [],
   "source": [
    "%matplotlib widget\n",
    "#Add libraries to import a plot in a Tkinterface \n",
    "import tkinter\n",
    "import serial     \n",
    "import time\n",
    "import os\n",
    "import re\n",
    "import threading\n",
    "import multiprocessing\n",
    "import numpy as np\n",
    "import pandas as pd\n",
    "from datetime import date\n",
    "from datetime import datetime\n",
    "from tkinter import filedialog\n",
    "\n",
    "# Implement the default Matplotlib key bindings.\n",
    "from matplotlib.backend_bases import key_press_handler\n",
    "from matplotlib.backends.backend_tkagg import (FigureCanvasTkAgg, NavigationToolbar2Tk)\n",
    "from matplotlib.figure import Figure\n",
    "from matplotlib.pyplot import *\n",
    "import matplotlib.animation as animation\n",
    "from matplotlib import backend_bases\n",
    "\n",
    "\n",
    "#Inicial conditions\n",
    "ledFlu=0\n",
    "ledOD=0\n",
    "\n",
    "\n",
    "\n",
    "\n",
    "\n",
    "#Create a Tkinterface with our icon and title\n",
    "root = tkinter.Tk()\n",
    "root.wm_title(\"UAMonitor\")\n",
    "\n",
    "if \"nt\" == os.name:\n",
    "  root.wm_iconbitmap(bitmap = \"iGEM.ico\")\n",
    "else:\n",
    "  root.wm_iconbitmap(bitmap = \"iGEM.xbm\")\n",
    "\n",
    "#root['background']='yellow'\n",
    "\n",
    "#imgicon = PhotoImage(file=os.path.join(Documents/Mauricio/iGEM/Arduino/Espectro_Foto/sketch_sep28a/iGEM.ico,'iGEM.ico'))\n",
    "#root.tk.call('wm', 'iconphoto', root._w, imgicon)  \n",
    "\n",
    "\n",
    "\"\"\"\n",
    "Frame = tkinter.Frame() #Frame creation\n",
    "Frame.config(cursor=\"heart\")\n",
    "Frame.config(width=\"150\", height=\"150\")\n",
    "Frame.pack(fill=\"both\")\n",
    "Frame.config(bg=\"blue\")\n",
    "Frame.pack(side=\"bottom\")\n",
    "\"\"\"\n",
    "\n",
    "# initialize the data arrays \n",
    "gDATA = []\n",
    "gDATA.append([0])\n",
    "gDATA.append([0])\n",
    "gDATA.append([0])\n",
    "\n",
    "# create a figure with two subplots\n",
    "fig, (ax1, ax2) = subplots(1,2)\n",
    "\n",
    "#Add the figure to the Tkinterface\n",
    "canvas = FigureCanvasTkAgg(fig, master=root)  # A tk.DrawingArea.\n",
    "canvas.draw()\n",
    "canvas.get_tk_widget().pack(side=tkinter.TOP, fill=tkinter.BOTH, expand=1)\n",
    "\n",
    "#Configure Fluorescence plot\n",
    "ax1.set_title('Fluorescence')\n",
    "ax1.grid()\n",
    "ax1.set_xlim((0,100))\n",
    "ax1.set_ylim((-1,100))\n",
    "\n",
    "#Configure Optical Density plot\n",
    "ax2.set_title('Optical Density')\n",
    "ax2.grid()\n",
    "ax2.set_xlim((0,100))\n",
    "ax2.set_ylim((-1,100))\n",
    "\n",
    "\n",
    "# intialize two line objects (one in each axes)\n",
    "line1, = ax1.plot(gDATA[0], gDATA[1], lw=2, color='green')\n",
    "line2, = ax2.plot(gDATA[0], gDATA[2], lw=2, color='orange')\n",
    "line = [line1, line2]\n",
    "\n",
    "\n",
    "\n",
    "def update_line(num,line,data):\n",
    "    \n",
    "#     axis limits checking. Same as before, just for both axes\n",
    "    for ax in [ax1, ax2]:\n",
    "        xmin, xmax = ax.get_xlim()\n",
    "        if max(data[0])>= xmax:\n",
    "            ax.set_xlim(xmin, 1.5*xmax)\n",
    "            ax.figure.canvas.draw()\n",
    "    # update the data of both line objects\n",
    "    line[0].set_data(data[0], data[1])\n",
    "    line[1].set_data(data[0], data[2])\n",
    "\n",
    "    return line\n",
    "\n",
    "ani = animation.FuncAnimation(fig, update_line, blit=True, fargs=(line, gDATA),interval=100, repeat=False)\n",
    "\n",
    "\n",
    "\n",
    "\n",
    "#In the next part we remove the button configure subplot because cause a warning message.\n",
    "# mpl.rcParams['toolbar'] = 'None'\n",
    "backend_bases.NavigationToolbar2.toolitems = (\n",
    "        ('Home', 'Reset original view', 'home', 'home'),\n",
    "        ('Back', 'Back to  previous view', 'back', 'back'),\n",
    "        ('Forward', 'Forward to next view', 'forward', 'forward'),\n",
    "        (None, None, None, None),\n",
    "        ('Pan', 'Pan axes with left mouse, zoom with right', 'move', 'pan'),\n",
    "        ('Zoom', 'Zoom to rectangle', 'zoom_to_rect', 'zoom'),\n",
    "        (None, None, None, None),\n",
    "        ('Save', 'Save the figure', 'filesave', 'save_figure'),\n",
    "      )\n",
    "\n",
    "#Add a Toolbar to control the figure\n",
    "toolbar = NavigationToolbar2Tk(canvas, root)\n",
    "toolbar.update()\n",
    "canvas.get_tk_widget().pack(side=tkinter.TOP, fill=tkinter.BOTH, expand=1)\n",
    "\n",
    "\"\"\"\n",
    "#For some reason this funtion print if you preesed a key\n",
    "def on_key_press(event):\n",
    "  print(\"you pressed {}\".format(event.key))\n",
    "  key_press_handler(event, canvas, toolbar)\n",
    "\n",
    "\n",
    "canvas.mpl_connect(\"key_press_event\", on_key_press)\n",
    "\"\"\"\n",
    "\n",
    "def timer(condition):\n",
    "  global tim\n",
    "  tim=0\n",
    "  while True:\n",
    "    time.sleep(0.1)\n",
    "    tim = tim + 0.1\n",
    "    if Mode != condition:\n",
    "      break\n",
    "  return\n",
    "\n",
    "\n",
    "def GetData(gDATA,condition,state):\n",
    "\n",
    "  global format\n",
    "  #Time \n",
    "  if condition != 'M' or state != 'O':\n",
    "    format = datetime.now().strftime('%d-%m-%Y, %H;%M;%S')\n",
    "  \n",
    "  global vFlu\n",
    "  vFlu=0\n",
    "  global vOD\n",
    "  vOD=0\n",
    "\n",
    "  gDATA[0]=[0]\n",
    "  gDATA[1]=[0]\n",
    "  gDATA[2]=[0]\n",
    "\n",
    "    \n",
    "  #datAR =serialArduino.readline().decode('ascii') \n",
    "  datAR =serialArduino.readline().decode('ascii').strip()\n",
    "  time.sleep(0.5)\n",
    "   \n",
    "  if condition == 'M' and state == 'O':\n",
    "    time.sleep(1.0)\n",
    "\n",
    "  format_before = '0'\n",
    "  \n",
    "  while True:\n",
    "\n",
    "   \n",
    "    if datAR:\n",
    "      pos=datAR.index(\",\")\n",
    "      if state == 'F':\n",
    "        vFlu=int(datAR[:pos])\n",
    "      if state == 'O':\n",
    "        vOD=int(datAR[pos+1:])\n",
    "      gDATA[0].append(tim)\n",
    "      gDATA[1].append(vFlu)\n",
    "      gDATA[2].append(vOD)\n",
    "\n",
    "      saves = pd.DataFrame(gDATA,index=['Time', 'Fluorecense','Optical Density']).transpose()\n",
    "      saves.to_csv('data '+str(format)+'('+str(condition)+').csv', index=False)\n",
    "      if len(gDATA[0]) > 200:\n",
    "        if condition != 'M' or state != 'O':\n",
    "          if format_before != '0':\n",
    "            data = pd.read_csv('data '+str(format)+'('+str(condition)+').csv', index=False) \n",
    "            updated_data = pd.read_csv('data '+str(format)+'.csv') \n",
    "            final_dataframe = pd.concat([data, updated_data]).drop_duplicates(subset='Time', keep='last').reset_index(drop=True) \n",
    "            final_dataframe.to_csv('data '+str(format)+'.csv', index=False)\n",
    "            os.remove('data '+str(format_before)+'.csv')\n",
    "          i = 0\n",
    "          gDATA[0]=[]\n",
    "          gDATA[1]=[]\n",
    "          gDATA[2]=[]\n",
    "          format_before = format\n",
    "          format=datetime.now().strftime('%d-%m-%Y, %H;%M;%S')\n",
    "      datAR =serialArduino.readline().decode('ascii').strip() \n",
    "      time.sleep(1)      \n",
    "    if Mode != condition:\n",
    "      break\n",
    "  return\n",
    "\n",
    "def Monitor_loop(condition):\n",
    "  while True:\n",
    "    Assing_LED(1,0)\n",
    "    time.sleep(1)\n",
    "    Assing_LED(0,1)\n",
    "    time.sleep(1)\n",
    "    print(\"Sí\")\n",
    "    if condition != 'M':\n",
    "      break\n",
    "  return\n",
    "\n",
    "#This funtion control the state of the LEDs\n",
    "def Assing_LED(ledFlu,ledOD):\n",
    "  dat = str(ledFlu) + \",\"+ str(ledOD)\n",
    "  serialArduino.write(dat.encode('ascii'))\n",
    "  return\n",
    "    \n",
    "def _stop():\n",
    "  if serialArduino != None:\n",
    "    Assing_LED(0,0)\n",
    "  global Mode\n",
    "  Mode = 'X'\n",
    "  return \n",
    "\n",
    "\n",
    "def _connect():\n",
    "  global serialArduino\n",
    "  serialArduino = serial.Serial(\"COM2\",9600,timeout=1.0)\n",
    "  if serialArduino != None:\n",
    "    tkinter.messagebox.showinfo(\"Information Window\",  \"Successful connection with Arduino\")\n",
    "  return \n",
    "\n",
    "def _quit():\n",
    "  root.quit()     # stops mainloop\n",
    "  root.destroy()  # this is necessary on Windows to\n",
    "  _stop()\n",
    "  serialArduino.close()\n",
    "  return          # Fatal Python Error: PyEval_RestoreThread: NULL tstate\n",
    "\n",
    "def _save():\n",
    "  dataFile=pd.read_csv('data '+str(format)+'('+str(Mode)+').csv')\n",
    "  SAVING_PATH = filedialog.asksaveasfile(mode='w', defaultextension=\".csv\")\n",
    "  dataFile.to_csv(SAVING_PATH)\n",
    "\n",
    "'''**********************\n",
    "*      MODES MENU      *\n",
    "************************\n",
    "*                      *\n",
    "*  F >> Fluorence mode *\n",
    "*  O >> OD mode        *\n",
    "*  M >> Monitor mode   *\n",
    "*  X >> Salir          *\n",
    "*                      *\n",
    "************************'''\n",
    "\n",
    "#Definition of Fluorescence Mode           \n",
    "def _FLU():\n",
    "  global Mode\n",
    "  Mode='O'\n",
    "  Assing_LED(1,0)\n",
    "  Cronometer = threading.Thread(target = timer, args=('F',))           \n",
    "  dataCollectorFLU = threading.Thread(target = GetData, args=(gDATA,'F','F',))\n",
    "  dataCollectorFLU.start()\n",
    "  Cronometer.start()\n",
    "  return\n",
    "\n",
    "#Definition of Optical Density Mode\n",
    "def _OD():\n",
    "  global Mode\n",
    "  Mode='O'\n",
    "  Assing_LED(0,1)\n",
    "  Cronometer = threading.Thread(target = timer, args=('O',))           \n",
    "  dataCollectorOD = threading.Thread(target = GetData, args=(gDATA,'O','O',))\n",
    "  dataCollectorOD.start()\n",
    "  Cronometer.start()\n",
    "  return\n",
    "\n",
    "#Definition of Monitor Mode\n",
    "def _MON():\n",
    "  global Mode\n",
    "  Mode='M'\n",
    "  Assing_LED(1,1)\n",
    "  #loop= threading.Thread(target = Monitor_loop, args=('M',)) \n",
    "  #loop.start()\n",
    "  Cronometer = threading.Thread(target = timer, args=('M',))           \n",
    "  dataCollectorMON_FLU = threading.Thread(target = GetData, args=(gDATA,'M','F',))\n",
    "  dataCollectorMON_OD = threading.Thread(target = GetData, args=(gDATA,'M','O',))\n",
    "  dataCollectorMON_FLU.start()  \n",
    "  dataCollectorMON_OD.start()\n",
    "  Cronometer.start()\n",
    "  return\n",
    "\n",
    "     \n",
    "\n",
    "#Enable a button and option to quit the window\n",
    "qui = tkinter.Button(master=root, text=\"Quit\", command=_quit, fg=\"#E0218A\")\n",
    "qui.pack(side=tkinter.RIGHT)\n",
    "         \n",
    "#Enable a button and option to stop mesurate\n",
    "sto = tkinter.Button(master=root, text=\"Stop\", command=_stop, fg=\"#E0218A\")\n",
    "sto.pack(side=tkinter.RIGHT)\n",
    "         \n",
    "#Enable a button of the function to connect the program to Arduino  \n",
    "con = tkinter.Button(master=root, text=\"Connect Arduino\", command=_connect, fg=\"#E0218A\")\n",
    "con.pack(side=tkinter.TOP)\n",
    "\n",
    "#Enable a button of the Monitor Mode\n",
    "Mon = tkinter.Button(master=root, text=\"Save\", command=_save, fg=\"#E0218A\")\n",
    "Mon.pack(side=tkinter.BOTTOM)\n",
    "\n",
    "#Enable a button of the OD Mode\n",
    "OD = tkinter.Button(master=root, text=\"OD Mode\", command=_OD, fg=\"#E0218A\")\n",
    "OD.pack(side=tkinter.LEFT)\n",
    "\n",
    "#Enable a button of the Fluorescence Mode\n",
    "Flu = tkinter.Button(master=root, text=\"Fluorecense Mode\", command=_FLU, fg=\"#E0218A\")\n",
    "Flu.pack(side=tkinter.LEFT)\n",
    "\n",
    "#Enable a button of the Monitor Mode\n",
    "Mon = tkinter.Button(master=root, text=\"Monitor Mode\", command=_MON, fg=\"#E0218A\")\n",
    "Mon.pack(side=tkinter.LEFT)\n",
    "\n",
    "\n",
    "\n",
    "\n",
    "tkinter.mainloop()\n",
    "# If you put root.destroy() here, it will cause an error if the window is closed with the window manager."
   ]
  },
  {
   "cell_type": "code",
   "execution_count": 14,
   "id": "4adaf39d-bf9c-497a-ad09-a24cb0071c45",
   "metadata": {},
   "outputs": [
    {
     "data": {
      "image/png": "[encoded data removed]",
      "text/plain": [
       "<Figure size 432x288 with 1 Axes>"
      ]
     },
     "metadata": {
      "needs_background": "light"
     },
     "output_type": "display_data"
    }
   ],
   "source": [
    "import matplotlib.pyplot as plt\n",
    "import numpy\n",
    "\n",
    "hl, = plt.plot([], [])\n",
    "\n",
    "def update_line(hl, new_data):\n",
    "    hl.set_xdata(numpy.append(hl.get_xdata(), new_data[0]))\n",
    "    hl.set_ydata(numpy.append(hl.get_ydata(), new_data[1]))\n",
    "    plt.draw()"
   ]
  },
  {
   "cell_type": "code",
   "execution_count": 10,
   "id": "21dd5598-b829-49b6-a4f0-54efd1c43bea",
   "metadata": {},
   "outputs": [
    {
     "ename": "IndentationError",
     "evalue": "unindent does not match any outer indentation level (<tokenize>, line 35)",
     "output_type": "error",
     "traceback": [
      "\u001b[1;36m  File \u001b[1;32m\"<tokenize>\"\u001b[1;36m, line \u001b[1;32m35\u001b[0m\n\u001b[1;33m    elif opcion=='O': #Optical density mode\u001b[0m\n\u001b[1;37m    ^\u001b[0m\n\u001b[1;31mIndentationError\u001b[0m\u001b[1;31m:\u001b[0m unindent does not match any outer indentation level\n"
     ]
    }
   ],
   "source": [
    "import serial     \n",
    "import time \n",
    "\n",
    "#Inicial conditions\n",
    "ledFlu=0\n",
    "ledOD=0\n",
    "vFlu=0\n",
    "vOD=0\n",
    "\n",
    "serialArduino = serial.Serial(\"COM4\",9600,timeout=1.0)\n",
    "\n",
    "\n",
    "#This funtion control the state of the LEDs\n",
    "def Assing_LED(ledFlu,ledOD):\n",
    "    dat = str(ledFlu) + \",\"+ str(ledOD)\n",
    "    serialArduino.write(dat.encode('ascii'))\n",
    "    return\n",
    "\n",
    "'''**********************\n",
    "*      MODES MENU      *\n",
    "************************\n",
    "*                      *\n",
    "*  F >> Fluorence mode *\n",
    "*  O >> OD mode        *\n",
    "*  M >> Monitor mode   *\n",
    "*                      *\n",
    "************************'''\n",
    "\n",
    "\n",
    "Mode='F'\n",
    "\n",
    "if opcion=='F': #Fluorence mode\n",
    "    Assing_LED(1,0)\n",
    "    \n",
    "  elif opcion=='O': #Optical density mode\n",
    "    Assing_LED(0,1)\n",
    "    \n",
    "  elif opcion=='M': #Monitor mode\n",
    "    Assing_LED(0,0)\n",
    "    time.sleep(1)\n",
    "      while True:\n",
    "        Assing_LED(1,0)\n",
    "        time.sleep(2)\n",
    "        Assing_LED(0,1)\n",
    "        time.sleep(2)\n",
    "      \n",
    "  else:\n",
    "    pass\n",
    "\n",
    "while True:\n",
    "  #cad =serialArduino.readline().decode('ascii') \n",
    "\n",
    "  datAR =serialArduino.readline().decode('ascii').strip()\n",
    "  if datAR:         \n",
    "    pos=datAR.index(\",\")\n",
    "    vFlu=int(datAR[:pos])\n",
    "    vOD=int(datAR[pos+1:])\n",
    "    if  \n"
   ]
  },
  {
   "cell_type": "code",
   "execution_count": 17,
   "id": "e355293a-c3a3-4ac3-bdfa-0cd9d15ebaf5",
   "metadata": {},
   "outputs": [
    {
     "name": "stdout",
     "output_type": "stream",
     "text": [
      "Requirement already satisfied: pyserial in c:\\users\\drago\\anaconda3\\lib\\site-packages (3.5)Note: you may need to restart the kernel to use updated packages.\n",
      "\n"
     ]
    }
   ],
   "source": [
    "pip install pyserial"
   ]
  },
  {
   "cell_type": "code",
   "execution_count": 18,
   "id": "b53aa771-0709-443b-b2d0-c63cca9e91fb",
   "metadata": {},
   "outputs": [
    {
     "name": "stdout",
     "output_type": "stream",
     "text": [
      "Collecting package metadata (current_repodata.json): ...working... done\n",
      "Note: you may need to restart the kernel to use updated packages.\n",
      "Solving environment: ...working... failed with initial frozen solve. Retrying with flexible solve.\n",
      "Collecting package metadata (repodata.json): ...working... done\n",
      "Solving environment: ...working... failed with initial frozen solve. Retrying with flexible solve.\n",
      "\n"
     ]
    },
    {
     "name": "stderr",
     "output_type": "stream",
     "text": [
      "\n",
      "PackagesNotFoundError: The following packages are not available from current channels:\n",
      "\n",
      "  - serial\n",
      "\n",
      "Current channels:\n",
      "\n",
      "  - https://repo.anaconda.com/pkgs/main/win-64\n",
      "  - https://repo.anaconda.com/pkgs/main/noarch\n",
      "  - https://repo.anaconda.com/pkgs/r/win-64\n",
      "  - https://repo.anaconda.com/pkgs/r/noarch\n",
      "  - https://repo.anaconda.com/pkgs/msys2/win-64\n",
      "  - https://repo.anaconda.com/pkgs/msys2/noarch\n",
      "\n",
      "To search for alternate channels that may provide the conda package you're\n",
      "looking for, navigate to\n",
      "\n",
      "    https://anaconda.org\n",
      "\n",
      "and use the search bar at the top of the page.\n",
      "\n",
      "\n"
     ]
    }
   ],
   "source": [
    "conda install serial"
   ]
  },
  {
   "cell_type": "code",
   "execution_count": null,
   "id": "7feb7fcf-959e-47e6-acd3-7f166429d02d",
   "metadata": {},
   "outputs": [
    {
     "name": "stdout",
     "output_type": "stream",
     "text": [
      "Thread 1: prints 1Thread 2: prints 2Thread 0: prints 0\n",
      "\n",
      "\n",
      "Thread 0: prints 0Thread 1: prints 2\n",
      "\n",
      "Thread 2: prints 4\n",
      "Thread 1: prints 3Thread 2: prints 6\n",
      "\n",
      "Thread 0: prints 0\n",
      "Thread 0: prints 0Thread 1: prints 4Thread 2: prints 8\n",
      "\n",
      "\n",
      "Thread 1: prints 5Thread 0: prints 0\n",
      "Thread 2: prints 10\n",
      "\n",
      "Thread 1: prints 6Thread 0: prints 0\n",
      "Thread 2: prints 12\n",
      "\n",
      "Thread 0: prints 0\n",
      "Thread 1: prints 7\n",
      "Thread 2: prints 14\n",
      "Thread 2: prints 16Thread 1: prints 8\n",
      "\n",
      "Thread 0: prints 0\n",
      "Thread 2: prints 18\n",
      "Thread 1: prints 9Thread 0: prints 0\n",
      "\n"
     ]
    }
   ],
   "source": []
  },
  {
   "cell_type": "code",
   "execution_count": 4,
   "id": "5aa63a43-2a6b-4e16-acc9-64f8b2af7590",
   "metadata": {},
   "outputs": [
    {
     "ename": "IndentationError",
     "evalue": "expected an indented block (Temp/ipykernel_48484/3084675916.py, line 21)",
     "output_type": "error",
     "traceback": [
      "\u001b[1;36m  File \u001b[1;32m\"C:\\Users\\drago\\AppData\\Local\\Temp/ipykernel_48484/3084675916.py\"\u001b[1;36m, line \u001b[1;32m21\u001b[0m\n\u001b[1;33m    line = ser.readline().decode('utf-8')\u001b[0m\n\u001b[1;37m    ^\u001b[0m\n\u001b[1;31mIndentationError\u001b[0m\u001b[1;31m:\u001b[0m expected an indented block\n"
     ]
    }
   ],
   "source": [
    "import serial\n",
    "import matplotlib.pyplot as plt\n",
    "import matplotlib.animation as animation\n",
    "import re\n",
    "import threading\n",
    "gData = []\n",
    "gData.append([0])\n",
    "gData.append([0])\n",
    "#Configuramos la gráfica\n",
    "fig = plt.figure()\n",
    "ax = fig.add_subplot(111)\n",
    "hl, = plt.plot(gData[0], gData[1])\n",
    "plt.ylim(-90, 90)\n",
    "plt.xlim(0,200)\n",
    "# Función que se va a ejecutar en otro thread\n",
    "# y que guardará los datos del serial en 'out_data'\n",
    "def GetData(out_data):\n",
    "    with serial.Serial('/dev/ttyUSB1',115200, timeout=1) as ser:\n",
    "        print(ser.isOpen())\n",
    "        while True:\n",
    "        line = ser.readline().decode('utf-8')\n",
    "        # Si la línea tiene 'Roll' la parseamos y extraemos el valor\n",
    "        if \"Roll\" in line:\n",
    "        res = re.search(\"Roll: ([-+]?(\\d+(\\.\\d*)?|\\.\\d+)([eE][-+]?\\d+)?)\", line)\n",
    "        # Añadimos el nuevo valor, si hay más de 200 muestras quitamos la primera\n",
    "        # para que no se nos acumulen demasiados datos en la gráfica\n",
    "        out_data[1].append( float(res.group(1)) )\n",
    "        if len(out_data[1]) > 200:\n",
    "            out_data[1].pop(0)\n",
    "# Función que actualizará los datos de la gráfica\n",
    "# Se llama periódicamente desde el 'FuncAnimation'\n",
    "def update_line(num, hl, data):\n",
    "    hl.set_data(range(len(data[1])), data[1])\n",
    "    return hl,\n",
    "# Configuramos la función que \"animará\" nuestra gráfica\n",
    "line_ani = animation.FuncAnimation(fig, update_line, fargs=(hl, gData),\n",
    "    interval=50, blit=False)\n",
    "# Configuramos y lanzamos el hilo encargado de leer datos del serial\n",
    "dataCollector = threading.Thread(target = GetData, args=(gData,))\n",
    "dataCollector.start()\n",
    "plt.show()\n",
    "dataCollector.join()"
   ]
  },
  {
   "cell_type": "code",
   "execution_count": 19,
   "id": "e6743912-1400-4f74-a134-4fee742d1ce4",
   "metadata": {},
   "outputs": [],
   "source": [
    "import numpy as np\n",
    "import pandas as pd\n",
    "\n",
    "gData = np.zeros((200,3))\n",
    "\n",
    "city = pd.DataFrame(gData, columns=['City', 'State','Gato'],index=None)\n",
    "city.to_csv('city.csv')"
   ]
  },
  {
   "cell_type": "code",
   "execution_count": 4,
   "id": "b82e9fc0-b21d-4999-ba6d-7a4ebd1890ed",
   "metadata": {},
   "outputs": [
    {
     "data": {
      "text/plain": [
       "array([0., 0., 0., 0., 0., 0., 0., 0., 0., 0., 0., 0., 0., 0., 0., 0., 0.,\n",
       "       0., 0., 0., 0., 0., 0., 0., 0., 0., 0., 0., 0., 0., 0., 0., 0., 0.,\n",
       "       0., 0., 0., 0., 0., 0., 0., 0., 0., 0., 0., 0., 0., 0., 0., 0., 0.,\n",
       "       0., 0., 0., 0., 0., 0., 0., 0., 0., 0., 0., 0., 0., 0., 0., 0., 0.,\n",
       "       0., 0., 0., 0., 0., 0., 0., 0., 0., 0., 0., 0., 0., 0., 0., 0., 0.,\n",
       "       0., 0., 0., 0., 0., 0., 0., 0., 0., 0., 0., 0., 0., 0., 0., 0., 0.,\n",
       "       0., 0., 0., 0., 0., 0., 0., 0., 0., 0., 0., 0., 0., 0., 0., 0., 0.,\n",
       "       0., 0., 0., 0., 0., 0., 0., 0., 0., 0., 0., 0., 0., 0., 0., 0., 0.,\n",
       "       0., 0., 0., 0., 0., 0., 0., 0., 0., 0., 0., 0., 0., 0., 0., 0., 0.,\n",
       "       0., 0., 0., 0., 0., 0., 0., 0., 0., 0., 0., 0., 0., 0., 0., 0., 0.,\n",
       "       0., 0., 0., 0., 0., 0., 0., 0., 0., 0., 0., 0., 0., 0., 0., 0., 0.,\n",
       "       0., 0., 0., 0., 0., 0., 0., 0., 0., 0., 0., 0., 0.])"
      ]
     },
     "execution_count": 4,
     "metadata": {},
     "output_type": "execute_result"
    }
   ],
   "source": [
    "t"
   ]
  },
  {
   "cell_type": "code",
   "execution_count": 5,
   "id": "81602898-b669-49ef-9a05-de8ba33cec27",
   "metadata": {},
   "outputs": [
    {
     "name": "stdout",
     "output_type": "stream",
     "text": [
      "helo Ayla\n",
      "hi\n",
      "helo Ayla\n",
      "hi\n",
      "helo Ayla\n",
      "hi\n",
      "helo Ayla\n",
      "hi\n",
      "helo Ayla\n",
      "hi\n",
      "helo Ayla\n",
      "hi\n",
      "helo Ayla\n",
      "hi\n",
      "helo Ayla\n",
      "hi\n",
      "helo Ayla\n",
      "hi\n",
      "helo Ayla\n",
      "hi\n",
      "Bye\n"
     ]
    }
   ],
   "source": [
    "\n",
    "\n",
    "from threading import Thread\n",
    "from time import sleep\n",
    "def run(name):\n",
    "    for x in range(10):\n",
    "        print(\"helo \"+name)\n",
    "        sleep(1)\n",
    "def run1():\n",
    "    for x in range(10):\n",
    "        print(\"hi\")\n",
    "        sleep(1)\n",
    "T=Thread(target=run,args=(\"Ayla\",))\n",
    "T1=Thread(target=run1)\n",
    "T.start()\n",
    "sleep(0.2)\n",
    "T1.start()\n",
    "T.join()\n",
    "T1.join()\n",
    "print(\"Bye\")"
   ]
  },
  {
   "cell_type": "code",
   "execution_count": 1,
   "id": "a7f8fae6-bf2d-4ce8-9608-2bd40b3ac183",
   "metadata": {},
   "outputs": [
    {
     "name": "stdout",
     "output_type": "stream",
     "text": [
      "Hola\n"
     ]
    }
   ],
   "source": [
    "import time\n",
    "import threading\n",
    "\n",
    "def timer1():\n",
    "  global tim1\n",
    "  tim1=0\n",
    "  while True:\n",
    "    time.sleep(0.05)\n",
    "    tim1 = tim1 + 0.05\n",
    "    \n",
    "def timer2():\n",
    "  global tim2\n",
    "  tim2=0\n",
    "  while True:\n",
    "    time.sleep(0.05)\n",
    "    tim2 = tim2 + 0.05\n",
    "\n",
    "    \n",
    "    \n",
    "Cronometer = threading.Thread(target = timer1)           \n",
    "dataCollector = threading.Thread(target = timer2)\n",
    "dataCollector.start()\n",
    "Cronometer.start()\n",
    "\n",
    "\n",
    "if dataCollector.is_alive() == True:\n",
    "  print(\"Hola\")\n",
    "\n"
   ]
  },
  {
   "cell_type": "code",
   "execution_count": 7,
   "id": "0b19f9e1-01b2-49ef-8988-831a2457dfc2",
   "metadata": {},
   "outputs": [
    {
     "ename": "TypeError",
     "evalue": "'numpy.float64' object cannot be interpreted as an integer",
     "output_type": "error",
     "traceback": [
      "\u001b[1;31m---------------------------------------------------------------------------\u001b[0m",
      "\u001b[1;31mTypeError\u001b[0m                                 Traceback (most recent call last)",
      "\u001b[1;32m~\\AppData\\Local\\Temp/ipykernel_52320/1123112066.py\u001b[0m in \u001b[0;36m<module>\u001b[1;34m\u001b[0m\n\u001b[0;32m      2\u001b[0m \u001b[0ma\u001b[0m\u001b[1;33m=\u001b[0m\u001b[0mnp\u001b[0m\u001b[1;33m.\u001b[0m\u001b[0mzeros\u001b[0m\u001b[1;33m(\u001b[0m\u001b[1;36m10\u001b[0m\u001b[1;33m)\u001b[0m\u001b[1;33m\u001b[0m\u001b[1;33m\u001b[0m\u001b[0m\n\u001b[0;32m      3\u001b[0m \u001b[0ma\u001b[0m\u001b[1;33m[\u001b[0m\u001b[1;36m0\u001b[0m\u001b[1;33m]\u001b[0m\u001b[1;33m=\u001b[0m\u001b[1;36m1\u001b[0m\u001b[1;33m\u001b[0m\u001b[1;33m\u001b[0m\u001b[0m\n\u001b[1;32m----> 4\u001b[1;33m \u001b[0ma\u001b[0m\u001b[1;33m=\u001b[0m\u001b[0mnp\u001b[0m\u001b[1;33m.\u001b[0m\u001b[0mzeros\u001b[0m\u001b[1;33m(\u001b[0m\u001b[0ma\u001b[0m\u001b[1;33m)\u001b[0m\u001b[1;33m\u001b[0m\u001b[1;33m\u001b[0m\u001b[0m\n\u001b[0m\u001b[0;32m      5\u001b[0m \u001b[0ma\u001b[0m\u001b[1;33m\u001b[0m\u001b[1;33m\u001b[0m\u001b[0m\n",
      "\u001b[1;31mTypeError\u001b[0m: 'numpy.float64' object cannot be interpreted as an integer"
     ]
    }
   ],
   "source": []
  },
  {
   "cell_type": "code",
   "execution_count": 14,
   "id": "55173568-e3bc-40db-a551-c3b0f58f795c",
   "metadata": {},
   "outputs": [
    {
     "data": {
      "image/png": "[encoded data removed]",
      "text/plain": [
       "<Figure size 432x288 with 2 Axes>"
      ]
     },
     "metadata": {
      "needs_background": "light"
     },
     "output_type": "display_data"
    }
   ],
   "source": [
    "#Add libraries to import a plot in a Tkinterface \n",
    "import tkinter\n",
    "import serial     \n",
    "import time\n",
    "import os\n",
    "import re\n",
    "import threading\n",
    "import numpy as np\n",
    "\n",
    "\n",
    "# Implement the default Matplotlib key bindings.\n",
    "from matplotlib.backend_bases import key_press_handler\n",
    "from matplotlib.backends.backend_tkagg import (FigureCanvasTkAgg, NavigationToolbar2Tk)\n",
    "from matplotlib.figure import Figure\n",
    "from matplotlib.pyplot import *\n",
    "\n",
    "fig = Figure(figsize=(5, 4), dpi=100)\n",
    "t = np.arange(0, 3, .01)\n",
    "fig.add_subplot(111).plot(t, 2 * np.sin(2 * np.pi * t)\n",
    "\n",
    "x = np.linspace(0, 2 * np.pi, 400)\n",
    "y = np.sin(x ** 2)\n",
    "fig = Figure(figsize=(5, 4), dpi=100)\n",
    "figsubplots(1, 2)\n",
    "axs[0].plot(x, y)\n",
    "axs[0].set_title(\"main\")\n",
    "axs[1].plot(x + 1, y + 1)\n",
    "axs[1].set_title(\"unrelated\")\n",
    "\n",
    "fig.tight_layout()"
   ]
  },
  {
   "cell_type": "code",
   "execution_count": 32,
   "id": "802eb490-1004-4dbc-8daf-30c2a12f4bce",
   "metadata": {},
   "outputs": [
    {
     "name": "stdout",
     "output_type": "stream",
     "text": [
      "07-10-2022, 07;18;03\n"
     ]
    }
   ],
   "source": [
    "#Es necesario importar las depencendias necesarias\n",
    "from datetime import date\n",
    "from datetime import datetime\n",
    "\n",
    "#Día actual\n",
    "today = date.today()\n",
    "\n",
    "#Fecha actual\n",
    "\n",
    "format = datetime.now().strftime('%d-%m-%Y, %H;%M;%S')\n",
    "print(format)\n",
    "\n",
    "import numpy as np\n",
    "import pandas as pd\n",
    "\n",
    "gData = np.zeros((200,3))\n",
    "\n",
    "city = pd.DataFrame(gData, columns=['City', 'State','Gato'],index=None)\n",
    "city.to_csv('city('+str(format)+').csv')\n"
   ]
  },
  {
   "cell_type": "code",
   "execution_count": 3,
   "id": "961911d9-3868-40f8-80c5-c02f06835cb1",
   "metadata": {},
   "outputs": [
    {
     "data": {
      "text/plain": [
       "array([0., 0., 0., 0., 0., 0., 0., 0., 0., 0., 0., 0., 0., 0., 0., 0., 0.,\n",
       "       0., 0., 0., 0., 0., 0., 0., 0., 0., 0., 0., 0., 0., 0., 0., 0., 0.,\n",
       "       0., 0., 0., 0., 0., 0., 0., 0., 0., 0., 0., 0., 0., 0., 0., 0., 0.,\n",
       "       0., 0., 0., 0., 0., 0., 0., 0., 0., 0., 0., 0., 0., 0., 0., 0., 0.,\n",
       "       0., 0., 0., 0., 0., 0., 0., 0., 0., 0., 0., 0., 0., 0., 0., 0., 0.,\n",
       "       0., 0., 0., 0., 0., 0., 0., 0., 0., 0., 0., 0., 0., 0., 0., 0., 0.,\n",
       "       0., 0., 0., 0., 0., 0., 0., 0., 0., 0., 0., 0., 0., 0., 0., 0., 0.,\n",
       "       0., 0., 0., 0., 0., 0., 0., 0., 0., 0., 0., 0., 0., 0., 0., 0., 0.,\n",
       "       0., 0., 0., 0., 0., 0., 0., 0., 0., 0., 0., 0., 0., 0., 0., 0., 0.,\n",
       "       0., 0., 0., 0., 0., 0., 0., 0., 0., 0., 0., 0., 0., 0., 0., 0., 0.,\n",
       "       0., 0., 0., 0., 0., 0., 0., 0., 0., 0., 0., 0., 0., 0., 0., 0., 0.,\n",
       "       0., 0., 0., 0., 0., 0., 0., 0., 0., 0., 0., 0., 0.])"
      ]
     },
     "execution_count": 3,
     "metadata": {},
     "output_type": "execute_result"
    }
   ],
   "source": [
    "import numpy as np\n",
    "gDATA = np.zeros((200,3))\n",
    "\n",
    "gDATA[:,0]"
   ]
  },
  {
   "cell_type": "code",
   "execution_count": 13,
   "id": "1bb01e93-cdee-4aa4-a58e-0698555eb01c",
   "metadata": {},
   "outputs": [
    {
     "data": {
      "image/png": "[encoded data removed]",
      "text/plain": [
       "<Figure size 500x400 with 2 Axes>"
      ]
     },
     "metadata": {
      "needs_background": "light"
     },
     "output_type": "display_data"
    },
    {
     "data": {
      "image/png": "[encoded data removed]",
      "text/plain": [
       "<Figure size 500x400 with 2 Axes>"
      ]
     },
     "metadata": {
      "needs_background": "light"
     },
     "output_type": "display_data"
    },
    {
     "data": {
      "image/png": "[encoded data removed]",
      "text/plain": [
       "<Figure size 500x400 with 2 Axes>"
      ]
     },
     "metadata": {
      "needs_background": "light"
     },
     "output_type": "display_data"
    },
    {
     "data": {
      "image/png": "[encoded data removed]",
      "text/plain": [
       "<Figure size 500x400 with 2 Axes>"
      ]
     },
     "metadata": {
      "needs_background": "light"
     },
     "output_type": "display_data"
    },
    {
     "data": {
      "image/png": "[encoded data removed]",
      "text/plain": [
       "<Figure size 500x400 with 2 Axes>"
      ]
     },
     "metadata": {
      "needs_background": "light"
     },
     "output_type": "display_data"
    },
    {
     "data": {
      "image/png": "[encoded data removed]",
      "text/plain": [
       "<Figure size 500x400 with 2 Axes>"
      ]
     },
     "metadata": {
      "needs_background": "light"
     },
     "output_type": "display_data"
    },
    {
     "data": {
      "image/png": "[encoded data removed]",
      "text/plain": [
       "<Figure size 500x400 with 2 Axes>"
      ]
     },
     "metadata": {
      "needs_background": "light"
     },
     "output_type": "display_data"
    }
   ],
   "source": [
    "from tkinter import *\n",
    "from math import  sin\n",
    "from matplotlib import pyplot as plt\n",
    "from matplotlib.backends.backend_tkagg import FigureCanvasTkAgg\n",
    "\n",
    "t = []\n",
    "for x in list(range(0,101)):\n",
    "\tt.append(x/15.87)\n",
    "\n",
    "def main():\n",
    "\troot = Tk()\n",
    "\tgui = Window(root)\n",
    "\tgui.root.mainloop()\n",
    "\treturn None\n",
    "\n",
    "class Window:\n",
    "\tdef __init__(self, root):\n",
    "\t\tself.root = root\n",
    "\t\tself.root.title(\"Sin Wave\")\n",
    "\t\tself.root.geometry('600x550')\n",
    "\t\t# A sin(wt + b) + c\n",
    "\t\tself.amplitude = 1\n",
    "\t\tself.frequency = 1\n",
    "\t\tself.vertical_shift = 0\n",
    "\t\tself.phase_shift = 0\n",
    "\t\t\n",
    "\t\t# Amplitude\n",
    "\t\tLabel(self.root, text = \"Amplitude\").grid(row=0, column=0)\n",
    "\t\tself.amplitude_entry = Entry(self.root, width = 5)\n",
    "\t\tself.amplitude_entry.grid(row=0, column = 1)\n",
    "\t\t\n",
    "\t\t# Frequency\n",
    "\t\tLabel(self.root, text = \"Frequency\").grid(row=1, column=0)\n",
    "\t\tself.frequency_entry = Entry(self.root, width = 5)\n",
    "\t\tself.frequency_entry.grid(row=1, column=1)\n",
    "\t\t\n",
    "\t\t# Vertical Shift\n",
    "\t\tLabel(self.root, text = \"Vertical Shift\").grid(row=2, column=0)\n",
    "\t\tself.vertical_shift_entry = Entry(self.root, width = 5)\n",
    "\t\tself.vertical_shift_entry.grid(row=2, column=1)\n",
    "\t\t\n",
    "\t\t# Horizontal Shift\n",
    "\t\tLabel(self.root, text = \"Phase Shift\").grid(row=3, column=0)\n",
    "\t\tself.phase_shift_entry = Entry(self.root, width = 5)\n",
    "\t\tself.phase_shift_entry.grid(row=3, column=1)\n",
    "\t\t\n",
    "\t\t# Update Button\n",
    "\t\tbutton1 = Button(self.root, text=\"Calculate\", command = self.update_values)\n",
    "\t\tbutton1.grid(row=4, column=0)\n",
    "\t\tself.root.bind(\"<Return>\", self.update_values)\n",
    "\t\tself.plot_values()\n",
    "\t\tpass\n",
    "\t\n",
    "\tdef update_values(self, event=None):\n",
    "\t\tself.amplitude = float(self.amplitude_entry.get())\n",
    "\t\tself.phase_shift = float(self.phase_shift_entry.get())\n",
    "\t\tself.vertical_shift = float(self.vertical_shift_entry.get())\n",
    "\t\tself.frequency = float(self.frequency_entry.get())\n",
    "\t\tself.plot_values()\n",
    "\t\treturn None\n",
    "\t\n",
    "\tdef plot_values(self):\n",
    "\t\ty = []\n",
    "\t\tfor x in t:\n",
    "\t\t\ty.append(self.amplitude * sin(self.frequency * x + self.phase_shift) + self.vertical_shift)\n",
    "\t\t\n",
    "\t\tfigure = plt.figure(figsize = (5,4), dpi = 100)\n",
    "\t\tfigure.add_subplot(111).plot(t,y)\n",
    "\t\tchart = FigureCanvasTkAgg(figure, self.root)\n",
    "\t\tchart.get_tk_widget().grid(row = 5, column = 0)\n",
    "\t\t\n",
    "\t\tplt.grid()\n",
    "\t\taxes = plt.axes()\n",
    "\t\taxes.set_xlim([0, 6.3])\n",
    "\t\taxes.set_ylim([-3, 3])\n",
    "\t\t\n",
    "\t\treturn None\n",
    "\t\n",
    "\tpass\n",
    "\n",
    "main()"
   ]
  },
  {
   "cell_type": "code",
   "execution_count": 3,
   "id": "06dfa1ce-66d2-47e2-9e5e-38d36507c2ac",
   "metadata": {},
   "outputs": [
    {
     "name": "stderr",
     "output_type": "stream",
     "text": [
      "C:\\Users\\drago\\anaconda3\\lib\\site-packages\\matplotlib\\animation.py:973: UserWarning: Animation was deleted without rendering anything. This is most likely unintended. To prevent deletion, assign the Animation to a variable that exists for as long as you need the Animation.\n",
      "  warnings.warn(\n"
     ]
    },
    {
     "data": {
      "image/png": "[encoded data removed]",
      "text/plain": [
       "<Figure size 432x288 with 1 Axes>"
      ]
     },
     "metadata": {
      "needs_background": "light"
     },
     "output_type": "display_data"
    }
   ],
   "source": [
    "import matplotlib.pyplot as plt\n",
    "from matplotlib.animation import FuncAnimation\n",
    "import numpy as np\n",
    "\n",
    "x = np.linspace(0, 2 * np.pi, 100)\n",
    "\n",
    "# generate 10 curves\n",
    "y = np.sin(x.reshape(-1, 1) + np.random.uniform(0, 2 * np.pi, (1, 10)))\n",
    "\n",
    "fig, ax = plt.subplots()\n",
    "ax.set(xlim=(0, 2 * np.pi), ylim=(-1.5, 1.5))\n",
    "# lines = [ax.plot([], [], lw=2)[0] for _ in range(y.shape[1])]\n",
    "lines = ax.plot(np.empty((0, y.shape[1])), np.empty((0, y.shape[1])), lw=2)\n",
    "\n",
    "def animate(i):\n",
    "    for line_k, y_k in zip(lines, y.T):\n",
    "        line_k.set_data(x[:i], y_k[:i])\n",
    "    return lines\n",
    "\n",
    "anim = FuncAnimation(fig, animate, frames=x.size, interval=200, repeat=False)\n",
    "plt.show()"
   ]
  },
  {
   "cell_type": "code",
   "execution_count": null,
   "id": "b1e20194-84d6-4c5a-86e2-f044212093c6",
   "metadata": {},
   "outputs": [],
   "source": [
    "import matplotlib.pyplot as plt\n",
    "from matplotlib.animation import FuncAnimation\n",
    "import numpy as np\n",
    "\n",
    "x = np.linspace(0, 2 * np.pi, 100).reshape(-1, 1)\n",
    "x = np.concatenate([x] * 3, axis=1)\n",
    "\n",
    "# generate 3 curves\n",
    "y = np.copy(x)\n",
    "y[:, 0] = np.cos(y[:, 0])\n",
    "y[:, 1] = np.sin(y[:, 1] )\n",
    "y[:, 2] = np.sin(y[:, 2] ) + np.cos(y[:, 2])\n",
    "\n",
    "fig, ax = plt.subplots()\n",
    "ax = plt.axes(xlim=(0,6), ylim=(-1.5, 1.5))\n",
    "line1, = ax.plot([], [], lw=2)\n",
    "line2, = ax.plot([], [], lw=2)\n",
    "line3, = ax.plot([], [], lw=2)\n",
    "\n",
    "\n",
    "def animate(i):\n",
    "    line1.set_data(x[:i, 0], y[:i, 0])\n",
    "    line2.set_data(x[:i, 1], y[:i, 1])\n",
    "    line3.set_data(x[:i, 2], y[:i, 2])\n",
    "    return line1,line2,line3\n",
    "\n",
    "anim = FuncAnimation(fig, animate, frames=100, interval=200, repeat=False)\n",
    "plt.show()"
   ]
  },
  {
   "cell_type": "code",
   "execution_count": 7,
   "id": "b0144675-b60b-41a9-a5a6-2340af1fb3e3",
   "metadata": {},
   "outputs": [
    {
     "ename": "SyntaxError",
     "evalue": "invalid syntax (Temp/ipykernel_204612/560373339.py, line 1)",
     "output_type": "error",
     "traceback": [
      "\u001b[1;36m  File \u001b[1;32m\"C:\\Users\\drago\\AppData\\Local\\Temp/ipykernel_204612/560373339.py\"\u001b[1;36m, line \u001b[1;32m1\u001b[0m\n\u001b[1;33m    conda install nodejs\u001b[0m\n\u001b[1;37m          ^\u001b[0m\n\u001b[1;31mSyntaxError\u001b[0m\u001b[1;31m:\u001b[0m invalid syntax\n"
     ]
    }
   ],
   "source": [
    "conda install nodejs\n",
    "jupyter labextension install @jupyter-widgets/jupyterlab-manager\n",
    "jupyter lab build"
   ]
  },
  {
   "cell_type": "code",
   "execution_count": 8,
   "id": "ea03d44d-cffd-4d66-8ac7-73981d96b246",
   "metadata": {},
   "outputs": [
    {
     "name": "stdout",
     "output_type": "stream",
     "text": [
      "Collecting ipymplNote: you may need to restart the kernel to use updated packages.\n",
      "\n",
      "  Downloading ipympl-0.9.2-py2.py3-none-any.whl (510 kB)\n",
      "Requirement already satisfied: ipython-genutils in c:\\users\\drago\\anaconda3\\lib\\site-packages (from ipympl) (0.2.0)\n",
      "Requirement already satisfied: numpy in c:\\users\\drago\\anaconda3\\lib\\site-packages (from ipympl) (1.20.3)\n",
      "Requirement already satisfied: traitlets<6 in c:\\users\\drago\\anaconda3\\lib\\site-packages (from ipympl) (5.1.0)\n",
      "Requirement already satisfied: pillow in c:\\users\\drago\\anaconda3\\lib\\site-packages (from ipympl) (8.4.0)\n",
      "Requirement already satisfied: ipython<9 in c:\\users\\drago\\anaconda3\\lib\\site-packages (from ipympl) (7.29.0)\n",
      "Requirement already satisfied: ipywidgets<9,>=7.6.0 in c:\\users\\drago\\anaconda3\\lib\\site-packages (from ipympl) (7.6.5)\n",
      "Requirement already satisfied: matplotlib<4,>=3.4.0 in c:\\users\\drago\\anaconda3\\lib\\site-packages (from ipympl) (3.4.3)\n",
      "Requirement already satisfied: prompt-toolkit!=3.0.0,!=3.0.1,<3.1.0,>=2.0.0 in c:\\users\\drago\\anaconda3\\lib\\site-packages (from ipython<9->ipympl) (3.0.20)\n",
      "Requirement already satisfied: jedi>=0.16 in c:\\users\\drago\\anaconda3\\lib\\site-packages (from ipython<9->ipympl) (0.18.0)\n",
      "Requirement already satisfied: pygments in c:\\users\\drago\\anaconda3\\lib\\site-packages (from ipython<9->ipympl) (2.10.0)\n",
      "Requirement already satisfied: colorama in c:\\users\\drago\\anaconda3\\lib\\site-packages (from ipython<9->ipympl) (0.4.4)\n",
      "Requirement already satisfied: decorator in c:\\users\\drago\\anaconda3\\lib\\site-packages (from ipython<9->ipympl) (5.1.0)\n",
      "Requirement already satisfied: pickleshare in c:\\users\\drago\\anaconda3\\lib\\site-packages (from ipython<9->ipympl) (0.7.5)\n",
      "Requirement already satisfied: matplotlib-inline in c:\\users\\drago\\anaconda3\\lib\\site-packages (from ipython<9->ipympl) (0.1.2)\n",
      "Requirement already satisfied: setuptools>=18.5 in c:\\users\\drago\\anaconda3\\lib\\site-packages (from ipython<9->ipympl) (58.0.4)\n",
      "Requirement already satisfied: backcall in c:\\users\\drago\\anaconda3\\lib\\site-packages (from ipython<9->ipympl) (0.2.0)\n",
      "Requirement already satisfied: jupyterlab-widgets>=1.0.0 in c:\\users\\drago\\anaconda3\\lib\\site-packages (from ipywidgets<9,>=7.6.0->ipympl) (1.0.0)\n",
      "Requirement already satisfied: ipykernel>=4.5.1 in c:\\users\\drago\\anaconda3\\lib\\site-packages (from ipywidgets<9,>=7.6.0->ipympl) (6.4.1)\n",
      "Requirement already satisfied: nbformat>=4.2.0 in c:\\users\\drago\\anaconda3\\lib\\site-packages (from ipywidgets<9,>=7.6.0->ipympl) (5.1.3)\n",
      "Requirement already satisfied: widgetsnbextension~=3.5.0 in c:\\users\\drago\\anaconda3\\lib\\site-packages (from ipywidgets<9,>=7.6.0->ipympl) (3.5.1)\n",
      "Requirement already satisfied: debugpy<2.0,>=1.0.0 in c:\\users\\drago\\anaconda3\\lib\\site-packages (from ipykernel>=4.5.1->ipywidgets<9,>=7.6.0->ipympl) (1.4.1)\n",
      "Requirement already satisfied: jupyter-client<8.0 in c:\\users\\drago\\anaconda3\\lib\\site-packages (from ipykernel>=4.5.1->ipywidgets<9,>=7.6.0->ipympl) (6.1.12)\n",
      "Requirement already satisfied: tornado<7.0,>=4.2 in c:\\users\\drago\\anaconda3\\lib\\site-packages (from ipykernel>=4.5.1->ipywidgets<9,>=7.6.0->ipympl) (6.1)\n",
      "Requirement already satisfied: parso<0.9.0,>=0.8.0 in c:\\users\\drago\\anaconda3\\lib\\site-packages (from jedi>=0.16->ipython<9->ipympl) (0.8.2)\n",
      "Requirement already satisfied: jupyter-core>=4.6.0 in c:\\users\\drago\\anaconda3\\lib\\site-packages (from jupyter-client<8.0->ipykernel>=4.5.1->ipywidgets<9,>=7.6.0->ipympl) (4.8.1)\n",
      "Requirement already satisfied: pyzmq>=13 in c:\\users\\drago\\anaconda3\\lib\\site-packages (from jupyter-client<8.0->ipykernel>=4.5.1->ipywidgets<9,>=7.6.0->ipympl) (22.2.1)\n",
      "Requirement already satisfied: python-dateutil>=2.1 in c:\\users\\drago\\anaconda3\\lib\\site-packages (from jupyter-client<8.0->ipykernel>=4.5.1->ipywidgets<9,>=7.6.0->ipympl) (2.8.2)\n",
      "Requirement already satisfied: pywin32>=1.0 in c:\\users\\drago\\anaconda3\\lib\\site-packages (from jupyter-core>=4.6.0->jupyter-client<8.0->ipykernel>=4.5.1->ipywidgets<9,>=7.6.0->ipympl) (228)\n",
      "Requirement already satisfied: pyparsing>=2.2.1 in c:\\users\\drago\\anaconda3\\lib\\site-packages (from matplotlib<4,>=3.4.0->ipympl) (3.0.4)\n",
      "Requirement already satisfied: cycler>=0.10 in c:\\users\\drago\\anaconda3\\lib\\site-packages (from matplotlib<4,>=3.4.0->ipympl) (0.10.0)\n",
      "Requirement already satisfied: kiwisolver>=1.0.1 in c:\\users\\drago\\anaconda3\\lib\\site-packages (from matplotlib<4,>=3.4.0->ipympl) (1.3.1)\n",
      "Requirement already satisfied: six in c:\\users\\drago\\anaconda3\\lib\\site-packages (from cycler>=0.10->matplotlib<4,>=3.4.0->ipympl) (1.16.0)\n",
      "Requirement already satisfied: jsonschema!=2.5.0,>=2.4 in c:\\users\\drago\\anaconda3\\lib\\site-packages (from nbformat>=4.2.0->ipywidgets<9,>=7.6.0->ipympl) (3.2.0)\n",
      "Requirement already satisfied: attrs>=17.4.0 in c:\\users\\drago\\anaconda3\\lib\\site-packages (from jsonschema!=2.5.0,>=2.4->nbformat>=4.2.0->ipywidgets<9,>=7.6.0->ipympl) (21.2.0)\n",
      "Requirement already satisfied: pyrsistent>=0.14.0 in c:\\users\\drago\\anaconda3\\lib\\site-packages (from jsonschema!=2.5.0,>=2.4->nbformat>=4.2.0->ipywidgets<9,>=7.6.0->ipympl) (0.18.0)\n",
      "Requirement already satisfied: wcwidth in c:\\users\\drago\\anaconda3\\lib\\site-packages (from prompt-toolkit!=3.0.0,!=3.0.1,<3.1.0,>=2.0.0->ipython<9->ipympl) (0.2.5)\n",
      "Requirement already satisfied: notebook>=4.4.1 in c:\\users\\drago\\anaconda3\\lib\\site-packages (from widgetsnbextension~=3.5.0->ipywidgets<9,>=7.6.0->ipympl) (6.4.5)\n",
      "Requirement already satisfied: jinja2 in c:\\users\\drago\\anaconda3\\lib\\site-packages (from notebook>=4.4.1->widgetsnbextension~=3.5.0->ipywidgets<9,>=7.6.0->ipympl) (2.11.3)\n",
      "Requirement already satisfied: nbconvert in c:\\users\\drago\\anaconda3\\lib\\site-packages (from notebook>=4.4.1->widgetsnbextension~=3.5.0->ipywidgets<9,>=7.6.0->ipympl) (6.1.0)\n",
      "Requirement already satisfied: prometheus-client in c:\\users\\drago\\anaconda3\\lib\\site-packages (from notebook>=4.4.1->widgetsnbextension~=3.5.0->ipywidgets<9,>=7.6.0->ipympl) (0.11.0)\n",
      "Requirement already satisfied: terminado>=0.8.3 in c:\\users\\drago\\anaconda3\\lib\\site-packages (from notebook>=4.4.1->widgetsnbextension~=3.5.0->ipywidgets<9,>=7.6.0->ipympl) (0.9.4)\n",
      "Requirement already satisfied: argon2-cffi in c:\\users\\drago\\anaconda3\\lib\\site-packages (from notebook>=4.4.1->widgetsnbextension~=3.5.0->ipywidgets<9,>=7.6.0->ipympl) (20.1.0)\n",
      "Requirement already satisfied: Send2Trash>=1.5.0 in c:\\users\\drago\\anaconda3\\lib\\site-packages (from notebook>=4.4.1->widgetsnbextension~=3.5.0->ipywidgets<9,>=7.6.0->ipympl) (1.8.0)\n",
      "Requirement already satisfied: pywinpty>=0.5 in c:\\users\\drago\\anaconda3\\lib\\site-packages (from terminado>=0.8.3->notebook>=4.4.1->widgetsnbextension~=3.5.0->ipywidgets<9,>=7.6.0->ipympl) (0.5.7)\n",
      "Requirement already satisfied: cffi>=1.0.0 in c:\\users\\drago\\anaconda3\\lib\\site-packages (from argon2-cffi->notebook>=4.4.1->widgetsnbextension~=3.5.0->ipywidgets<9,>=7.6.0->ipympl) (1.14.6)\n",
      "Requirement already satisfied: pycparser in c:\\users\\drago\\anaconda3\\lib\\site-packages (from cffi>=1.0.0->argon2-cffi->notebook>=4.4.1->widgetsnbextension~=3.5.0->ipywidgets<9,>=7.6.0->ipympl) (2.20)\n",
      "Requirement already satisfied: MarkupSafe>=0.23 in c:\\users\\drago\\anaconda3\\lib\\site-packages (from jinja2->notebook>=4.4.1->widgetsnbextension~=3.5.0->ipywidgets<9,>=7.6.0->ipympl) (1.1.1)\n",
      "Requirement already satisfied: defusedxml in c:\\users\\drago\\anaconda3\\lib\\site-packages (from nbconvert->notebook>=4.4.1->widgetsnbextension~=3.5.0->ipywidgets<9,>=7.6.0->ipympl) (0.7.1)\n",
      "Requirement already satisfied: bleach in c:\\users\\drago\\anaconda3\\lib\\site-packages (from nbconvert->notebook>=4.4.1->widgetsnbextension~=3.5.0->ipywidgets<9,>=7.6.0->ipympl) (4.0.0)\n",
      "Requirement already satisfied: mistune<2,>=0.8.1 in c:\\users\\drago\\anaconda3\\lib\\site-packages (from nbconvert->notebook>=4.4.1->widgetsnbextension~=3.5.0->ipywidgets<9,>=7.6.0->ipympl) (0.8.4)\n",
      "Requirement already satisfied: nbclient<0.6.0,>=0.5.0 in c:\\users\\drago\\anaconda3\\lib\\site-packages (from nbconvert->notebook>=4.4.1->widgetsnbextension~=3.5.0->ipywidgets<9,>=7.6.0->ipympl) (0.5.3)\n",
      "Requirement already satisfied: pandocfilters>=1.4.1 in c:\\users\\drago\\anaconda3\\lib\\site-packages (from nbconvert->notebook>=4.4.1->widgetsnbextension~=3.5.0->ipywidgets<9,>=7.6.0->ipympl) (1.4.3)\n",
      "Requirement already satisfied: testpath in c:\\users\\drago\\anaconda3\\lib\\site-packages (from nbconvert->notebook>=4.4.1->widgetsnbextension~=3.5.0->ipywidgets<9,>=7.6.0->ipympl) (0.5.0)\n",
      "Requirement already satisfied: entrypoints>=0.2.2 in c:\\users\\drago\\anaconda3\\lib\\site-packages (from nbconvert->notebook>=4.4.1->widgetsnbextension~=3.5.0->ipywidgets<9,>=7.6.0->ipympl) (0.3)\n",
      "Requirement already satisfied: jupyterlab-pygments in c:\\users\\drago\\anaconda3\\lib\\site-packages (from nbconvert->notebook>=4.4.1->widgetsnbextension~=3.5.0->ipywidgets<9,>=7.6.0->ipympl) (0.1.2)\n",
      "Requirement already satisfied: nest-asyncio in c:\\users\\drago\\anaconda3\\lib\\site-packages (from nbclient<0.6.0,>=0.5.0->nbconvert->notebook>=4.4.1->widgetsnbextension~=3.5.0->ipywidgets<9,>=7.6.0->ipympl) (1.5.1)\n",
      "Requirement already satisfied: async-generator in c:\\users\\drago\\anaconda3\\lib\\site-packages (from nbclient<0.6.0,>=0.5.0->nbconvert->notebook>=4.4.1->widgetsnbextension~=3.5.0->ipywidgets<9,>=7.6.0->ipympl) (1.10)\n",
      "Requirement already satisfied: packaging in c:\\users\\drago\\anaconda3\\lib\\site-packages (from bleach->nbconvert->notebook>=4.4.1->widgetsnbextension~=3.5.0->ipywidgets<9,>=7.6.0->ipympl) (21.0)\n",
      "Requirement already satisfied: webencodings in c:\\users\\drago\\anaconda3\\lib\\site-packages (from bleach->nbconvert->notebook>=4.4.1->widgetsnbextension~=3.5.0->ipywidgets<9,>=7.6.0->ipympl) (0.5.1)\n",
      "Installing collected packages: ipympl\n",
      "Successfully installed ipympl-0.9.2\n"
     ]
    }
   ],
   "source": [
    "pip install ipympl\n"
   ]
  },
  {
   "cell_type": "code",
   "execution_count": 9,
   "id": "93e79495-f7fb-4cdb-bec0-cb49513aa8b5",
   "metadata": {},
   "outputs": [
    {
     "name": "stdout",
     "output_type": "stream",
     "text": [
      "Collecting nodejsNote: you may need to restart the kernel to use updated packages.\n",
      "  Downloading nodejs-0.1.1.tar.gz (2.3 kB)\n",
      "Collecting optional-django==0.1.0\n",
      "  Downloading optional-django-0.1.0.tar.gz (9.5 kB)\n",
      "Building wheels for collected packages: nodejs, optional-django\n",
      "\n",
      "  Building wheel for nodejs (setup.py): started\n",
      "  Building wheel for nodejs (setup.py): finished with status 'done'\n",
      "  Created wheel for nodejs: filename=nodejs-0.1.1-py3-none-any.whl size=3492 sha256=fa2f0cf83eddb2d9f65087610db57408b66088fcdc65bd2216325fad7a6d43f2\n",
      "  Stored in directory: c:\\users\\drago\\appdata\\local\\pip\\cache\\wheels\\33\\6c\\3e\\c7c4e543b09f8fc396bb9d2bb0ee2c73d248c49201593c901e\n",
      "  Building wheel for optional-django (setup.py): started\n",
      "  Building wheel for optional-django (setup.py): finished with status 'done'\n",
      "  Created wheel for optional-django: filename=optional_django-0.1.0-py3-none-any.whl size=9978 sha256=14bfecc786a7aa517b298a26c65680995f4254aab05b69bb574c74a486fd97c8\n",
      "  Stored in directory: c:\\users\\drago\\appdata\\local\\pip\\cache\\wheels\\02\\8b\\80\\98951377d9c707978a3798a23f2b260e00bcfc724073556cf4\n",
      "Successfully built nodejs optional-django\n",
      "Installing collected packages: optional-django, nodejs\n",
      "Successfully installed nodejs-0.1.1 optional-django-0.1.0\n"
     ]
    }
   ],
   "source": [
    "pip install nodejs"
   ]
  },
  {
   "cell_type": "code",
   "execution_count": 10,
   "id": "c545a13c-b94c-4079-be14-2b0280c42be1",
   "metadata": {},
   "outputs": [
    {
     "ename": "SyntaxError",
     "evalue": "invalid syntax (Temp/ipykernel_204612/2471653659.py, line 1)",
     "output_type": "error",
     "traceback": [
      "\u001b[1;36m  File \u001b[1;32m\"C:\\Users\\drago\\AppData\\Local\\Temp/ipykernel_204612/2471653659.py\"\u001b[1;36m, line \u001b[1;32m1\u001b[0m\n\u001b[1;33m    jupyter labextension install @jupyter-widgets/jupyterlab-manager\u001b[0m\n\u001b[1;37m            ^\u001b[0m\n\u001b[1;31mSyntaxError\u001b[0m\u001b[1;31m:\u001b[0m invalid syntax\n"
     ]
    }
   ],
   "source": [
    "jupyter labextension install @jupyter-widgets/jupyterlab-manager"
   ]
  },
  {
   "cell_type": "code",
   "execution_count": 11,
   "id": "194848d0-08f1-4832-9b6c-db19724db933",
   "metadata": {},
   "outputs": [
    {
     "ename": "SyntaxError",
     "evalue": "invalid syntax (Temp/ipykernel_204612/1642669591.py, line 1)",
     "output_type": "error",
     "traceback": [
      "\u001b[1;36m  File \u001b[1;32m\"C:\\Users\\drago\\AppData\\Local\\Temp/ipykernel_204612/1642669591.py\"\u001b[1;36m, line \u001b[1;32m1\u001b[0m\n\u001b[1;33m    jupyter labextension install jupyter-matplotlib\u001b[0m\n\u001b[1;37m            ^\u001b[0m\n\u001b[1;31mSyntaxError\u001b[0m\u001b[1;31m:\u001b[0m invalid syntax\n"
     ]
    }
   ],
   "source": [
    "jupyter labextension install jupyter-matplotlib"
   ]
  },
  {
   "cell_type": "code",
   "execution_count": 1,
   "id": "f2d35fcc-0adb-4f09-8996-eda5ad714c09",
   "metadata": {},
   "outputs": [
    {
     "ename": "SyntaxError",
     "evalue": "invalid syntax (Temp/ipykernel_62160/4153054873.py, line 1)",
     "output_type": "error",
     "traceback": [
      "\u001b[1;36m  File \u001b[1;32m\"C:\\Users\\drago\\AppData\\Local\\Temp/ipykernel_62160/4153054873.py\"\u001b[1;36m, line \u001b[1;32m1\u001b[0m\n\u001b[1;33m    conda install ipympl\u001b[0m\n\u001b[1;37m          ^\u001b[0m\n\u001b[1;31mSyntaxError\u001b[0m\u001b[1;31m:\u001b[0m invalid syntax\n"
     ]
    }
   ],
   "source": [
    "conda install ipympl\n",
    "jupyter lab build"
   ]
  },
  {
   "cell_type": "code",
   "execution_count": 1,
   "id": "587f03a6-77c8-46d6-87f7-11dc1bf02a9d",
   "metadata": {},
   "outputs": [
    {
     "name": "stdout",
     "output_type": "stream",
     "text": [
      "Requirement already satisfied: nodejs in c:\\users\\drago\\anaconda3\\lib\\site-packages (0.1.1)\n",
      "Requirement already satisfied: optional-django==0.1.0 in c:\\users\\drago\\anaconda3\\lib\\site-packages (from nodejs) (0.1.0)\n",
      "Note: you may need to restart the kernel to use updated packages.\n"
     ]
    }
   ],
   "source": [
    "pip install nodejs\n"
   ]
  },
  {
   "cell_type": "code",
   "execution_count": 13,
   "id": "27a13308-24aa-4a3b-8315-29d641a2a27e",
   "metadata": {},
   "outputs": [
    {
     "data": {
      "application/vnd.jupyter.widget-view+json": {
       "model_id": "190ac1b1c7244aba9c2d0ab6f6e7e46c",
       "version_major": 2,
       "version_minor": 0
      },
      "image/png": "[encoded data removed]",
      "text/html": [
       "\n",
       "            <div style=\"display: inline-block;\">\n",
       "                <div class=\"jupyter-widgets widget-label\" style=\"text-align: center;\">\n",
       "                    Figure\n",
       "                </div>\n",
       "                <img src='data:image/png;base64,iVBORw0KGgoAAAANSUhEUgAAAoAAAAHgCAYAAAA10dzkAAAAOXRFWHRTb2Z0d2FyZQBNYXRwbG90bGliIHZlcnNpb24zLjQuMywgaHR0cHM6Ly9tYXRwbG90bGliLm9yZy/MnkTPAAAACXBIWXMAAA9hAAAPYQGoP6dpAAAve0lEQVR4nO3df0xV9/3H8dct4kU6pBHGBSIi3aalol0Lm14yq7TjtrgZbZtG14Vqpl2cuk5vjKm6H2Ds2A9jWGPVuWmxdY3+4XRr6pw3GaKLugnlps444zImtgUprOWqrJcru98/LDflCzp/wef0fp6P5CaeD+fI69y3V1459weuaDQaFQAAAKxxl+kAAAAAGFoUQAAAAMtQAAEAACxDAQQAALAMBRAAAMAyFEAAAADLUAABAAAsQwEEAACwDAUQAADAMhRAAAAAy1AAAQAALEMBBAAAsAwFEAAAwDIUQAAAAMtQAAEAACxDAQQAALAMBRAAAMAyFEAAAADLUAABAAAsQwEEAACwDAUQAADAMhRAAAAAy1AAAQAALEMBBAAAsAwFEAAAwDIUQAAAAMtQAAEAACxDAQQAALAMBRAAAMAyFEAAAADLUAABAAAsQwEEAACwDAUQAADAMhRAAAAAy1AAAQAALEMBBAAAsAwFEAAAwDIUQAAAAMtQAAEAACxDAQQAALAMBRAAAMAyFEAAAADLUAABAAAsQwEEAACwDAUQAADAMhRAAAAAy1AAAQAALEMBBAAAsAwFEAAAwDIUQAAAAMtQAAEAACxDAQQAALAMBRAAAMAyFEAAAADLUAABAAAsQwEEAACwzDDTAT7N/vvf/+q9995TSkqKXC6X6TgAAOAGRKNRXbx4UdnZ2brrLjuvhVEAb8N7772nnJwc0zEAAMAtOH/+vEaPHm06hhEUwNuQkpIiSWpqatKoUaMMp7FbJBLRwYMH5fP5lJiYaDqO1ZiFszAP52AWzvHvf/9beXl5sZ/jNqIA3obep31TUlI0cuRIw2nsFolElJycrJEjR/Ifq2HMwlmYh3MwC+eIRCKSZPXLt+Lmie/Dhw9r5syZys7Olsvl0r59+/7nMXV1dSosLFRSUpLuvfdebdmyZfCDAgAAGBY3BfDy5ct64IEHtHHjxhvav6mpSTNmzNDUqVPV2Nio1atX6/nnn9eePXsGOSkAAIBZcfMUcFlZmcrKym54/y1btmjMmDGqrq6WJOXn56u+vl7r16/XU089NUgpAQAAzIubAnizjh07Jp/P12ftscce07Zt2xSJRAZ8fUY4HFY4HI5th0IhSVdfS9D7egKY0Xv/MwfzmIWzMA/nYBbOwQwsLoCtra3yeDx91jwej65cuaL29nZlZWX1O6aqqkqVlZX91mtra5WcnDxoWXHjAoGA6Qj4GLNwFubhHMzCvK6uLtMRjLO2AEr93/0TjUYHXO+1atUq+f3+2HYoFFJOTo5KSkqUlpY2eEHxP0UiEQUCAZWWlvLuOsOYhbMwD+dgFs7R0dFhOoJx1hbAzMxMtba29llra2vTsGHDrlnm3G633G53v/XExEQezA7BLJyDWTgL83AOZmEe938cvQv4Znm93n6X4Q8ePKiioiL+YQAAgLgWNwXw0qVLCgaDCgaDkq5+zEswGFRzc7Okq0/fPvvss7H9Fy1apHPnzsnv9+v06dPavn27tm3bphUrVpiIDwAAMGTi5ing+vp6lZSUxLZ7X6s3b9481dTUqKWlJVYGJSkvL0/79+/X8uXL9fLLLys7O1svvfQSHwEDAADiXtwUwOnTp8fexDGQmpqafmvTpk3TW2+9NYipAAAAnCdungIGAADAjaEAAgAAWIYCCAAAYBkKIAAAgGUogAAAAJahAAIAAFiGAggAAGAZCiAAAIBlKIAAAACWoQACAABYhgIIAABgGQogAACAZSiAAAAAlqEAAgAAWIYCCAAAYBkKIAAAgGUogAAAAJahAAIAAFiGAggAAGAZCiAAAIBlKIAAAACWoQACAABYhgIIAABgGQogAACAZSiAAAAAlqEAAgAAWIYCCAAAYJm4KoCbNm1SXl6ekpKSVFhYqCNHjlxz30OHDsnlcvW7/f3vfx/CxAAAAEMvbgrg7t27tWzZMq1Zs0aNjY2aOnWqysrK1NzcfN3jzpw5o5aWltjtC1/4whAlBgAAMCNuCuCGDRu0YMECLVy4UPn5+aqurlZOTo42b9583eMyMjKUmZkZuyUkJAxRYgAAADOGmQ5wJ3R3d6uhoUEvvPBCn3Wfz6ejR49e99gHH3xQH330ke6//359//vfV0lJyTX3DYfDCofDse1QKCRJikQiikQit3EGuF299z9zMI9ZOAvzcA5m4RzMIE4KYHt7u3p6euTxePqsezwetba2DnhMVlaWtm7dqsLCQoXDYb322mt69NFHdejQIT388MMDHlNVVaXKysp+67W1tUpOTr79E8FtCwQCpiPgY8zCWZiHczAL87q6ukxHMC4uCmAvl8vVZzsajfZb6zV+/HiNHz8+tu31enX+/HmtX7/+mgVw1apV8vv9se1QKKScnByVlJQoLS3tDpwBblUkElEgEFBpaakSExNNx7Eas3AW5uEczMI5Ojo6TEcwLi4KYHp6uhISEvpd7Wtra+t3VfB6pkyZop07d17z6263W263u996YmIiD2aHYBbOwSychXk4B7Mwj/s/Tt4EMnz4cBUWFva7rB4IBFRcXHzDf09jY6OysrLudDwAAABHiYsrgJLk9/tVXl6uoqIieb1ebd26Vc3NzVq0aJGkq0/fvvvuu3r11VclSdXV1Ro7dqwmTJig7u5u7dy5U3v27NGePXtMngYAAMCgi5sCOGfOHHV0dGjt2rVqaWlRQUGB9u/fr9zcXElSS0tLn88E7O7u1ooVK/Tuu+9qxIgRmjBhgt58803NmDHD1CkAAAAMibgpgJK0ePFiLV68eMCv1dTU9NleuXKlVq5cOQSpAAAAnCUuXgMIAACAG0cBBAAAsAwFEAAAwDIUQAAAAMtQAAEAACxDAQQAALAMBRAAAMAyFEAAAADLUAABAAAsQwEEAACwDAUQAADAMhRAAAAAy1AAAQAALEMBBAAAsAwFEAAAwDIUQAAAAMtQAAEAACxDAQQAALAMBRAAAMAyFEAAAADLUAABAAAsQwEEAACwDAUQAADAMhRAAAAAy1AAAQAALEMBBAAAsAwFEAAAwDJxVQA3bdqkvLw8JSUlqbCwUEeOHLnu/nV1dSosLFRSUpLuvfdebdmyZYiSAgAAmBM3BXD37t1atmyZ1qxZo8bGRk2dOlVlZWVqbm4ecP+mpibNmDFDU6dOVWNjo1avXq3nn39ee/bsGeLkAAAAQytuCuCGDRu0YMECLVy4UPn5+aqurlZOTo42b9484P5btmzRmDFjVF1drfz8fC1cuFDf+ta3tH79+iFODgAAMLTiogB2d3eroaFBPp+vz7rP59PRo0cHPObYsWP99n/sscdUX1+vSCQyaFkBAABMG2Y6wJ3Q3t6unp4eeTyePusej0etra0DHtPa2jrg/leuXFF7e7uysrL6HRMOhxUOh2PboVBIkhSJRCiNhvXe/8zBPGbhLMzDOZiFczCDOCmAvVwuV5/taDTab+1/7T/Qeq+qqipVVlb2W6+trVVycvLNxsUgCAQCpiPgY8zCWZiHczAL87q6ukxHMC4uCmB6eroSEhL6Xe1ra2vrd5WvV2Zm5oD7Dxs2TGlpaQMes2rVKvn9/th2KBRSTk6OSkpKrnkMhkYkElEgEFBpaakSExNNx7Eas3AW5uEczMI5Ojo6TEcwLi4K4PDhw1VYWKhAIKAnnngith4IBDRr1qwBj/F6vXrjjTf6rB08eFBFRUXXfGC63W653e5+64mJiTyYHYJZOAezcBbm4RzMwjzu/zh5E4gk+f1+/frXv9b27dt1+vRpLV++XM3NzVq0aJGkq1fvnn322dj+ixYt0rlz5+T3+3X69Glt375d27Zt04oVK0ydAgAAwJCIiyuAkjRnzhx1dHRo7dq1amlpUUFBgfbv36/c3FxJUktLS5/PBMzLy9P+/fu1fPlyvfzyy8rOztZLL72kp556ytQpAAAADIm4KYCStHjxYi1evHjAr9XU1PRbmzZtmt56661BTgUAAOAscfMUMAAAAG4MBRAAAMAyFEAAAADLUAABAAAsQwEEAACwDAUQAADAMhRAAAAAy1AAAQAALEMBBAAAsAwFEAAAwDIUQAAAAMtQAAEAACxDAQQAALAMBRAAAMAyFEAAAADLUAABAAAsQwEEAACwDAUQAADAMhRAAAAAy1AAAQAALEMBBAAAsAwFEAAAwDIUQAAAAMtQAAEAACxDAQQAALAMBRAAAMAyFEAAAADLxEUB/OCDD1ReXq7U1FSlpqaqvLxcH3744XWPmT9/vlwuV5/blClThiYwAACAQcNMB7gTnnnmGb3zzjs6cOCAJOnb3/62ysvL9cYbb1z3uMcff1yvvPJKbHv48OGDmhMAAMAJPvUF8PTp0zpw4ICOHz+uyZMnS5J+9atfyev16syZMxo/fvw1j3W73crMzByqqAAAAI7wqX8K+NixY0pNTY2VP0maMmWKUlNTdfTo0esee+jQIWVkZGjcuHF67rnn1NbWNthxAQAAjPvUXwFsbW1VRkZGv/WMjAy1trZe87iysjI9/fTTys3NVVNTk37wgx/okUceUUNDg9xu94DHhMNhhcPh2HYoFJIkRSIRRSKR2zwT3I7e+585mMcsnIV5OAezcA5m4OACWFFRocrKyuvuc+LECUmSy+Xq97VoNDrgeq85c+bE/lxQUKCioiLl5ubqzTff1JNPPjngMVVVVQNmqq2tVXJy8nWzYmgEAgHTEfAxZuEszMM5mIV5XV1dpiMY59gCuHTpUs2dO/e6+4wdO1Zvv/22Lly40O9r77//vjwezw1/v6ysLOXm5urs2bPX3GfVqlXy+/2x7VAopJycHJWUlCgtLe2GvxfuvEgkokAgoNLSUiUmJpqOYzVm4SzMwzmYhXN0dHSYjmCcYwtgenq60tPT/+d+Xq9XnZ2d+utf/6ovf/nLkqS//OUv6uzsVHFx8Q1/v46ODp0/f15ZWVnX3Mftdg/49HBiYiIPZodgFs7BLJyFeTgHszCP+z8O3gSSn5+vxx9/XM8995yOHz+u48eP67nnntPXv/71Pu8Avu+++7R3715J0qVLl7RixQodO3ZM//rXv3To0CHNnDlT6enpeuKJJ0ydCgAAwJD41BdASfrNb36jiRMnyufzyefzadKkSXrttdf67HPmzBl1dnZKkhISEnTy5EnNmjVL48aN07x58zRu3DgdO3ZMKSkpJk4BAABgyDj2KeCbMWrUKO3cufO6+0Sj0difR4wYoT/+8Y+DHQsAAMCR4uIKIAAAAG4cBRAAAMAyFEAAAADLUAABAAAsQwEEAACwDAUQAADAMhRAAAAAy1AAAQAALEMBBAAAsAwFEAAAwDIUQAAAAMtQAAEAACxDAQQAALAMBRAAAMAyFEAAAADLUAABAAAsQwEEAACwDAUQAADAMhRAAAAAy1AAAQAALEMBBAAAsAwFEAAAwDIUQAAAAMtQAAEAACxDAQQAALAMBRAAAMAyFEAAAADLxEUBfPHFF1VcXKzk5GTdc889N3RMNBpVRUWFsrOzNWLECE2fPl2nTp0a3KAAAAAOEBcFsLu7W08//bS+853v3PAxP/vZz7RhwwZt3LhRJ06cUGZmpkpLS3Xx4sVBTAoAAGBeXBTAyspKLV++XBMnTryh/aPRqKqrq7VmzRo9+eSTKigo0I4dO9TV1aXXX399kNMCAACYFRcF8GY1NTWptbVVPp8vtuZ2uzVt2jQdPXrUYDIAAIDBN8x0ABNaW1slSR6Pp8+6x+PRuXPnrnlcOBxWOByObYdCIUlSJBJRJBIZhKS4Ub33P3Mwj1k4C/NwDmbhHMzAwQWwoqJClZWV193nxIkTKioquuXv4XK5+mxHo9F+a59UVVU1YKba2lolJyffcg7cOYFAwHQEfIxZOAvzcA5mYV5XV5fpCMY5tgAuXbpUc+fOve4+Y8eOvaW/OzMzU9LVK4FZWVmx9ba2tn5XBT9p1apV8vv9se1QKKScnByVlJQoLS3tlrLgzohEIgoEAiotLVViYqLpOFZjFs7CPJyDWThHR0eH6QjGObYApqenKz09fVD+7ry8PGVmZioQCOjBBx+UdPWdxHV1dfrpT396zePcbrfcbne/9cTERB7MDsEsnINZOAvzcA5mYR73f5y8CaS5uVnBYFDNzc3q6elRMBhUMBjUpUuXYvvcd9992rt3r6SrT/0uW7ZMP/7xj7V371797W9/0/z585WcnKxnnnnG1GkAAAAMCcdeAbwZP/zhD7Vjx47Ydu9VvdraWk2fPl2SdObMGXV2dsb2Wblypf7zn/9o8eLF+uCDDzR58mQdPHhQKSkpQ5odAABgqMVFAaypqVFNTc1194lGo322XS6XKioqVFFRMXjBAAAAHCgungIGAADAjYuLK4Cm9F5VvHjxIi8oNSwSiairq0uhUIhZGMYsnIV5OAezcI7eX/v6/58dtAkF8Db0vo08Ly/PcBIAAHCzOjo6lJqaajqGERTA2zBq1ChJV9+FbOs/IKfo/UzG8+fPa+TIkabjWI1ZOAvzcA5m4RydnZ0aM2ZM7Oe4jSiAt+Guu66+hDI1NZUHs0OMHDmSWTgEs3AW5uEczMI5en+O28jeMwcAALAUBRAAAMAyFMDb4Ha79aMf/WjAXw+HocUsnINZOAvzcA5m4RzMQnJFbX4PNAAAgIW4AggAAGAZCiAAAIBlKIAAAACWoQDeok2bNikvL09JSUkqLCzUkSNHTEey0uHDhzVz5kxlZ2fL5XJp3759piNZq6qqSl/60peUkpKijIwMzZ49W2fOnDEdy0qbN2/WpEmTYp835/V69Yc//MF0LOjq48TlcmnZsmWmo1ipoqJCLperzy0zM9N0LCMogLdg9+7dWrZsmdasWaPGxkZNnTpVZWVlam5uNh3NOpcvX9YDDzygjRs3mo5ivbq6Oi1ZskTHjx9XIBDQlStX5PP5dPnyZdPRrDN69Gj95Cc/UX19verr6/XII49o1qxZOnXqlOloVjtx4oS2bt2qSZMmmY5itQkTJqilpSV2O3nypOlIRvAu4FswefJkPfTQQ9q8eXNsLT8/X7Nnz1ZVVZXBZHZzuVzau3evZs+ebToKJL3//vvKyMhQXV2dHn74YdNxrDdq1Cj9/Oc/14IFC0xHsdKlS5f00EMPadOmTVq3bp2++MUvqrq62nQs61RUVGjfvn0KBoOmoxjHFcCb1N3drYaGBvl8vj7rPp9PR48eNZQKcJ7Ozk5Jsvp3bTpBT0+Pdu3apcuXL8vr9ZqOY60lS5boa1/7mr761a+ajmK9s2fPKjs7W3l5eZo7d67++c9/mo5kBL8L+Ca1t7erp6dHHo+nz7rH41Fra6uhVICzRKNR+f1+feUrX1FBQYHpOFY6efKkvF6vPvroI33mM5/R3r17df/995uOZaVdu3apoaFB9fX1pqNYb/LkyXr11Vc1btw4XbhwQevWrVNxcbFOnTqltLQ00/GGFAXwFrlcrj7b0Wi03xpgq6VLl+rtt9/Wn//8Z9NRrDV+/HgFg0F9+OGH2rNnj+bNm6e6ujpK4BA7f/68vve97+ngwYNKSkoyHcd6ZWVlsT9PnDhRXq9Xn/vc57Rjxw75/X6DyYYeBfAmpaenKyEhod/Vvra2tn5XBQEbffe739Xvf/97HT58WKNHjzYdx1rDhw/X5z//eUlSUVGRTpw4oV/84hf65S9/aTiZXRoaGtTW1qbCwsLYWk9Pjw4fPqyNGzcqHA4rISHBYEK73X333Zo4caLOnj1rOsqQ4zWAN2n48OEqLCxUIBDosx4IBFRcXGwoFWBeNBrV0qVL9dvf/lZ/+tOflJeXZzoSPiEajSocDpuOYZ1HH31UJ0+eVDAYjN2Kior0zW9+U8FgkPJnWDgc1unTp5WVlWU6ypDjCuAt8Pv9Ki8vV1FRkbxer7Zu3arm5mYtWrTIdDTrXLp0Sf/4xz9i201NTQoGgxo1apTGjBljMJl9lixZotdff12/+93vlJKSErtKnpqaqhEjRhhOZ5fVq1errKxMOTk5unjxonbt2qVDhw7pwIEDpqNZJyUlpd/rYO+++26lpaXx+lgDVqxYoZkzZ2rMmDFqa2vTunXrFAqFNG/ePNPRhhwF8BbMmTNHHR0dWrt2rVpaWlRQUKD9+/crNzfXdDTr1NfXq6SkJLbd+xqOefPmqaamxlAqO/V+LNL06dP7rL/yyiuaP3/+0Aey2IULF1ReXq6WlhalpqZq0qRJOnDggEpLS01HA4x655139I1vfEPt7e367Gc/qylTpuj48eNW/vzmcwABAAAsw2sAAQAALEMBBAAAsAwFEAAAwDIUQAAAAMtQAAEAACxDAQQAALAMBRAAAMAyFEAAAADLUAABAAAsQwEEAACwDAUQAADAMsNMB/g0++9//6v33ntPKSkpcrlcpuMAAIAbEI1GdfHiRWVnZ+uuu+y8FkYBvA3vvfeecnJyTMcAAAC34Pz58xo9erTpGEZQAG9DSkqKJKmpqUmjRo0ynMZukUhEBw8elM/nU2Jiouk4VmMWzsI8nINZOMe///1v5eXlxX6O24gCeBt6n/ZNSUnRyJEjDaexWyQSUXJyskaOHMl/rIYxC2dhHs7BLJwjEolIktUv34qbJ74PHz6smTNnKjs7Wy6XS/v27fufx9TV1amwsFBJSUm69957tWXLlsEPCgAAYFjcFMDLly/rgQce0MaNG29o/6amJs2YMUNTp05VY2OjVq9ereeff1579uwZ5KQAAABmxc1TwGVlZSorK7vh/bds2aIxY8aourpakpSfn6/6+nqtX79eTz311CClBAAAMC9urgDerGPHjsnn8/VZe+yxx1RfXx97bQAAAEA8ipsrgDertbVVHo+nz5rH49GVK1fU3t6urKysfseEw2GFw+HYdigUknT1xaSURrN673/mYB6zcBbm4RzMwjmYgcUFUOr/7p9oNDrgeq+qqipVVlb2W6+trVVycvKdD4ibFggETEfAx5iFszAP52AW5nV1dZmOYJy1BTAzM1Otra191tra2jRs2DClpaUNeMyqVavk9/tj26FQSDk5OSopKbnmMRgakUhEgUBApaWlfLyCYczCWZiHczAL5+jo6DAdwThrC6DX69Ubb7zRZ+3gwYMqKiq65gPT7XbL7Xb3W09MTOTB7BDMwjmYhbMwD+dgFuZx/8fRm0AuXbqkYDCoYDAo6erHvASDQTU3N0u6evXu2Wefje2/aNEinTt3Tn6/X6dPn9b27du1bds2rVixwkR8AACAIRM3VwDr6+tVUlIS2+59qnbevHmqqalRS0tLrAxKUl5envbv36/ly5fr5ZdfVnZ2tl566SU+AgYAAMS9uCmA06dPj72JYyA1NTX91qZNm6a33nprEFMBAAA4T9w8BQwAAIAbQwEEAACwDAUQAADAMhRAAAAAy1AAAQAALEMBBAAAsAwFEAAAwDIUQAAAAMtQAAEAACxDAQQAALAMBRAAAMAyFEAAAADLUAABAAAsQwEEAACwDAUQAADAMhRAAAAAy1AAAQAALEMBBAAAsAwFEAAAwDIUQAAAAMtQAAEAACxDAQQAALAMBRAAAMAyFEAAAADLUAABAAAsQwEEAACwDAUQAADAMhRAAAAAy8RVAdy0aZPy8vKUlJSkwsJCHTly5Jr7Hjp0SC6Xq9/t73//+xAmBgAAGHpxUwB3796tZcuWac2aNWpsbNTUqVNVVlam5ubm6x535swZtbS0xG5f+MIXhigxAACAGXFTADds2KAFCxZo4cKFys/PV3V1tXJycrR58+brHpeRkaHMzMzYLSEhYYgSAwAAmDHMdIA7obu7Ww0NDXrhhRf6rPt8Ph09evS6xz744IP66KOPdP/99+v73/++SkpKrrlvOBxWOByObYdCIUlSJBJRJBK5jTPA7eq9/5mDeczCWZiHczAL52AGcVIA29vb1dPTI4/H02fd4/GotbV1wGOysrK0detWFRYWKhwO67XXXtOjjz6qQ4cO6eGHHx7wmKqqKlVWVvZbr62tVXJy8u2fCG5bIBAwHQEfYxbOwjycg1mY19XVZTqCcXFRAHu5XK4+29FotN9ar/Hjx2v8+PGxba/Xq/Pnz2v9+vXXLICrVq2S3++PbYdCIeXk5KikpERpaWl34AxwqyKRiAKBgEpLS5WYmGg6jtWYhbMwD+dgFs7R0dFhOoJxcVEA09PTlZCQ0O9qX1tbW7+rgtczZcoU7dy585pfd7vdcrvd/dYTExN5MDsEs3AOZuEszMM5mIV53P9x8iaQ4cOHq7CwsN9l9UAgoOLi4hv+exobG5WVlXWn4wEAADhKXFwBlCS/36/y8nIVFRXJ6/Vq69atam5u1qJFiyRdffr23Xff1auvvipJqq6u1tixYzVhwgR1d3dr586d2rNnj/bs2WPyNAAAAAZd3BTAOXPmqKOjQ2vXrlVLS4sKCgq0f/9+5ebmSpJaWlr6fCZgd3e3VqxYoXfffVcjRozQhAkT9Oabb2rGjBmmTgEAAGBIxE0BlKTFixdr8eLFA36tpqamz/bKlSu1cuXKIUgFAADgLHHxGkAAAADcOAogAACAZSiAAAAAlqEAAgAAWIYCCAAAYBkKIAAAgGUogAAAAJahAAIAAFiGAggAAGAZCiAAAIBlKIAAAACWoQACAABYhgIIAABgGQogAACAZSiAAAAAlqEAAgAAWIYCCAAAYBkKIAAAgGUogAAAAJahAAIAAFiGAggAAGAZCiAAAIBlKIAAAACWoQACAABYhgIIAABgGQogAACAZSiAAAAAlomrArhp0ybl5eUpKSlJhYWFOnLkyHX3r6urU2FhoZKSknTvvfdqy5YtQ5QUAADAnLgpgLt379ayZcu0Zs0aNTY2aurUqSorK1Nzc/OA+zc1NWnGjBmaOnWqGhsbtXr1aj3//PPas2fPECcHAAAYWnFTADds2KAFCxZo4cKFys/PV3V1tXJycrR58+YB99+yZYvGjBmj6upq5efna+HChfrWt76l9evXD3FyAACAoTXMdIA7obu7Ww0NDXrhhRf6rPt8Ph09enTAY44dOyafz9dn7bHHHtO2bdsUiUSUmJjY75hwOKxwOBzbDoVCkqRIJKJIJHK7p4Hb0Hv/MwfzmIWzMA/nYBbOwQzipAC2t7erp6dHHo+nz7rH41Fra+uAx7S2tg64/5UrV9Te3q6srKx+x1RVVamysrLfem1trZKTk2/jDHCnBAIB0xHwMWbhLMzDOZiFeV1dXaYjGBcXBbCXy+Xqsx2NRvut/a/9B1rvtWrVKvn9/th2KBRSTk6OSkpKlJaWdquxcQdEIhEFAgGVlpYOePUWQ4dZOAvzcA5m4RwdHR2mIxgXFwUwPT1dCQkJ/a72tbW19bvK1yszM3PA/YcNG3bNMud2u+V2u/utJyYm8mB2CGbhHMzCWZiHczAL87j/4+RNIMOHD1dhYWG/y+qBQEDFxcUDHuP1evvtf/DgQRUVFfEPAwAAxLW4KICS5Pf79etf/1rbt2/X6dOntXz5cjU3N2vRokWSrj59++yzz8b2X7Rokc6dOye/36/Tp09r+/bt2rZtm1asWGHqFAAAAIZEXDwFLElz5sxRR0eH1q5dq5aWFhUUFGj//v3Kzc2VJLW0tPT5TMC8vDzt379fy5cv18svv6zs7Gy99NJLeuqpp0ydAgAAwJCImwIoSYsXL9bixYsH/FpNTU2/tWnTpumtt94a5FQAAADOEjdPAQMAAODGUAABAAAsQwEEAACwDAUQAADAMhRAAAAAy1AAAQAALEMBBAAAsAwFEAAAwDIUQAAAAMtQAAEAACxDAQQAALAMBRAAAMAyFEAAAADLUAABAAAsQwEEAACwDAUQAADAMhRAAAAAy1AAAQAALEMBBAAAsAwFEAAAwDIUQAAAAMtQAAEAACxDAQQAALAMBRAAAMAyFEAAAADLUAABAAAsQwEEAACwTFwUwA8++EDl5eVKTU1VamqqysvL9eGHH173mPnz58vlcvW5TZkyZWgCAwAAGDTMdIA74ZlnntE777yjAwcOSJK+/e1vq7y8XG+88cZ1j3v88cf1yiuvxLaHDx8+qDkBAACc4FNfAE+fPq0DBw7o+PHjmjx5siTpV7/6lbxer86cOaPx48df81i3263MzMyhigoAAOAIn/oCeOzYMaWmpsbKnyRNmTJFqampOnr06HUL4KFDh5SRkaF77rlH06ZN04svvqiMjIxr7h8OhxUOh2PboVBIkhSJRBSJRO7A2eBW9d7/zME8ZuEszMM5mIVzMIM4KICtra0DlraMjAy1trZe87iysjI9/fTTys3NVVNTk37wgx/okUceUUNDg9xu94DHVFVVqbKyst96bW2tkpOTb/0kcMcEAgHTEfAxZuEszMM5mIV5XV1dpiMY59gCWFFRMWDZ+qQTJ05IklwuV7+vRaPRAdd7zZkzJ/bngoICFRUVKTc3V2+++aaefPLJAY9ZtWqV/H5/bDsUCiknJ0clJSVKS0u7blYMrkgkokAgoNLSUiUmJpqOYzVm4SzMwzmYhXN0dHSYjmCcYwvg0qVLNXfu3OvuM3bsWL399tu6cOFCv6+9//778ng8N/z9srKylJubq7Nnz15zH7fbPeDVwcTERB7MDsEsnINZOAvzcA5mYR73v4MLYHp6utLT0//nfl6vV52dnfrrX/+qL3/5y5Kkv/zlL+rs7FRxcfENf7+Ojg6dP39eWVlZt5wZAADg0+BT/zmA+fn5evzxx/Xcc8/p+PHjOn78uJ577jl9/etf7/MGkPvuu0979+6VJF26dEkrVqzQsWPH9K9//UuHDh3SzJkzlZ6erieeeMLUqQAAAAyJT30BlKTf/OY3mjhxonw+n3w+nyZNmqTXXnutzz5nzpxRZ2enJCkhIUEnT57UrFmzNG7cOM2bN0/jxo3TsWPHlJKSYuIUAAAAhoxjnwK+GaNGjdLOnTuvu080Go39ecSIEfrjH/842LEAAAAcKS6uAAIAAODGUQABAAAsQwEEAACwDAUQAADAMhRAAAAAy1AAAQAALEMBBAAAsAwFEAAAwDIUQAAAAMtQAAEAACxDAQQAALAMBRAAAMAyFEAAAADLUAABAAAsQwEEAACwDAUQAADAMhRAAAAAy1AAAQAALEMBBAAAsAwFEAAAwDIUQAAAAMtQAAEAACxDAQQAALAMBRAAAMAyFEAAAADLUAABAAAsQwEEAACwTFwUwBdffFHFxcVKTk7WPffcc0PHRKNRVVRUKDs7WyNGjND06dN16tSpwQ0KAADgAHFRALu7u/X000/rO9/5zg0f87Of/UwbNmzQxo0bdeLECWVmZqq0tFQXL14cxKQAAADmxUUBrKys1PLlyzVx4sQb2j8ajaq6ulpr1qzRk08+qYKCAu3YsUNdXV16/fXXBzktAACAWXFRAG9WU1OTWltb5fP5Ymtut1vTpk3T0aNHDSYDAAAYfMNMBzChtbVVkuTxePqsezwenTt37prHhcNhhcPh2HYoFJIkRSIRRSKRQUiKG9V7/zMH85iFszAP52AWzsEMHFwAKyoqVFlZed19Tpw4oaKiolv+Hi6Xq892NBrtt/ZJVVVVA2aqra1VcnLyLefAnRMIBExHwMeYhbMwD+dgFuZ1dXWZjmCcYwvg0qVLNXfu3OvuM3bs2Fv6uzMzMyVdvRKYlZUVW29ra+t3VfCTVq1aJb/fH9sOhULKyclRSUmJ0tLSbikL7oxIJKJAIKDS0lIlJiaajmM1ZuEszMM5mIVzdHR0mI5gnGMLYHp6utLT0wfl787Ly1NmZqYCgYAefPBBSVffSVxXV6ef/vSn1zzO7XbL7Xb3W09MTOTB7BDMwjmYhbMwD+dgFuZx/8fJm0Cam5sVDAbV3Nysnp4eBYNBBYNBXbp0KbbPfffdp71790q6+tTvsmXL9OMf/1h79+7V3/72N82fP1/Jycl65plnTJ0GAADAkHDsFcCb8cMf/lA7duyIbfde1autrdX06dMlSWfOnFFnZ2dsn5UrV+o///mPFi9erA8++ECTJ0/WwYMHlZKSMqTZAQAAhlpcFMCamhrV1NRcd59oNNpn2+VyqaKiQhUVFYMXDAAAwIHiogCa0lsqL168yOsJDItEIurq6lIoFGIWhjELZ2EezsEsnKP3t379/4tDNqEA3obedxHl5eUZTgIAAG5WR0eHUlNTTccwggJ4G0aNGiXp6ptQbP0H5BS9H8lz/vx5jRw50nQcqzELZ2EezsEsnKOzs1NjxoyJ/Ry3EQXwNtx119U3UaempvJgdoiRI0cyC4dgFs7CPJyDWThH789xG9l75gAAAJaiAAIAAFiGAngb3G63fvSjHw3420EwtJiFczALZ2EezsEsnINZSK6oze+BBgAAsBBXAAEAACxDAQQAALAMBRAAAMAyFEAAAADLUABv0aZNm5SXl6ekpCQVFhbqyJEjpiNZ6fDhw5o5c6ays7Plcrm0b98+05GsVVVVpS996UtKSUlRRkaGZs+erTNnzpiOZaXNmzdr0qRJsQ8c9nq9+sMf/mA6FnT1ceJyubRs2TLTUaxUUVEhl8vV55aZmWk6lhEUwFuwe/duLVu2TGvWrFFjY6OmTp2qsrIyNTc3m45mncuXL+uBBx7Qxo0bTUexXl1dnZYsWaLjx48rEAjoypUr8vl8unz5sulo1hk9erR+8pOfqL6+XvX19XrkkUc0a9YsnTp1ynQ0q504cUJbt27VpEmTTEex2oQJE9TS0hK7nTx50nQkI/gYmFswefJkPfTQQ9q8eXNsLT8/X7Nnz1ZVVZXBZHZzuVzau3evZs+ebToKJL3//vvKyMhQXV2dHn74YdNxrDdq1Cj9/Oc/14IFC0xHsdKlS5f00EMPadOmTVq3bp2++MUvqrq62nQs61RUVGjfvn0KBoOmoxjHFcCb1N3drYaGBvl8vj7rPp9PR48eNZQKcJ7Ozk5JsvqXrTtBT0+Pdu3apcuXL8vr9ZqOY60lS5boa1/7mr761a+ajmK9s2fPKjs7W3l5eZo7d67++c9/mo5kxDDTAT5t2tvb1dPTI4/H02fd4/GotbXVUCrAWaLRqPx+v77yla+ooKDAdBwrnTx5Ul6vVx999JE+85nPaO/evbr//vtNx7LSrl271NDQoPr6etNRrDd58mS9+uqrGjdunC5cuKB169apuLhYp06dUlpamul4Q4oCeItcLlef7Wg02m8NsNXSpUv19ttv689//rPpKNYaP368gsGgPvzwQ+3Zs0fz5s1TXV0dJXCInT9/Xt/73vd08OBBJSUlmY5jvbKystifJ06cKK/Xq8997nPasWOH/H6/wWRDjwJ4k9LT05WQkNDval9bW1u/q4KAjb773e/q97//vQ4fPqzRo0ebjmOt4cOH6/Of/7wkqaioSCdOnNAvfvEL/fKXvzSczC4NDQ1qa2tTYWFhbK2np0eHDx/Wxo0bFQ6HlZCQYDCh3e6++25NnDhRZ8+eNR1lyPEawJs0fPhwFRYWKhAI9FkPBAIqLi42lAowLxqNaunSpfrtb3+rP/3pT8rLyzMdCZ8QjUYVDodNx7DOo48+qpMnTyoYDMZuRUVF+uY3v6lgMEj5MywcDuv06dPKysoyHWXIcQXwFvj9fpWXl6uoqEher1dbt25Vc3OzFi1aZDqadS5duqR//OMfse2mpiYFg0GNGjVKY8aMMZjMPkuWLNHrr7+u3/3ud0pJSYldJU9NTdWIESMMp7PL6tWrVVZWppycHF28eFG7du3SoUOHdODAAdPRrJOSktLvdbB333230tLSeH2sAStWrNDMmTM1ZswYtbW1ad26dQqFQpo3b57paEOOAngL5syZo46ODq1du1YtLS0qKCjQ/v37lZubazqaderr61VSUhLb7n0Nx7x581RTU2MolZ16PxZp+vTpfdZfeeUVzZ8/f+gDWezChQsqLy9XS0uLUlNTNWnSJB04cEClpaWmowFGvfPOO/rGN76h9vZ2ffazn9WUKVN0/PhxK39+8zmAAAAAluE1gAAAAJahAAIAAFiGAggAAGAZCiAAAIBlKIAAAACWoQACAABYhgIIAABgGQogAACAZSiAAAAAlqEAAgAAWIYCCAAAYBkKIAAAgGUogAAAAJahAAIAAFiGAggAAGAZCiAAAIBlKIAAAACWoQACAABYhgIIAABgGQogAACAZSiAAAAAlqEAAgAAWIYCCAAAYBkKIAAAgGUogAAAAJahAAIAAFiGAggAAGAZCiAAAIBlKIAAAACWoQACAABYhgIIAABgmf8DWPBKLHLZUzUAAAAASUVORK5CYII=' width=640.0/>\n",
       "            </div>\n",
       "        "
      ],
      "text/plain": [
       "Canvas(toolbar=Toolbar(toolitems=[('Home', 'Reset original view', 'home', 'home'), ('Back', 'Back to  previous…"
      ]
     },
     "metadata": {},
     "output_type": "display_data"
    }
   ],
   "source": [
    "import numpy as np\n",
    "import matplotlib.pyplot as plt\n",
    "import matplotlib.animation as animation\n",
    "\n",
    "def data_gen():\n",
    "    t = data_gen.t\n",
    "    cnt = 0\n",
    "    while cnt < 1000:\n",
    "        cnt+=1\n",
    "        t += 0.05\n",
    "        y1 = np.sin(2*np.pi*t) * np.exp(-t/10.)\n",
    "        y2 = np.cos(2*np.pi*t) * np.exp(-t/10.)\n",
    "        # adapted the data generator to yield both sin and cos\n",
    "        yield t, y1, y2\n",
    "\n",
    "data_gen.t = 0\n",
    "\n",
    "# create a figure with two subplots\n",
    "fig, (ax1, ax2) = plt.subplots(2,1)\n",
    "\n",
    "# intialize two line objects (one in each axes)\n",
    "line1, = ax1.plot([], [], lw=2)\n",
    "line2, = ax2.plot([], [], lw=2, color='r')\n",
    "line = [line1, line2]\n",
    "\n",
    "# the same axes initalizations as before (just now we do it for both of them)\n",
    "for ax in [ax1, ax2]:\n",
    "    ax.set_ylim(-1.1, 1.1)\n",
    "    ax.set_xlim(0, 5)\n",
    "    ax.grid()\n",
    "\n",
    "# initialize the data arrays \n",
    "xdata, y1data, y2data = [], [], []\n",
    "def run(data):\n",
    "    # update the data\n",
    "    t, y1, y2 = data\n",
    "    xdata.append(t)\n",
    "    y1data.append(y1)\n",
    "    y2data.append(y2)\n",
    "\n",
    "    # axis limits checking. Same as before, just for both axes\n",
    "    for ax in [ax1, ax2]:\n",
    "        xmin, xmax = ax.get_xlim()\n",
    "        if t >= xmax:\n",
    "            ax.set_xlim(xmin, 2*xmax)\n",
    "            ax.figure.canvas.draw()\n",
    "\n",
    "    # update the data of both line objects\n",
    "    line[0].set_data(xdata, y1data)\n",
    "    line[1].set_data(xdata, y2data)\n",
    "\n",
    "    return line\n",
    "\n",
    "ani = animation.FuncAnimation(fig, run, data_gen, blit=True, interval=10,\n",
    "    repeat=False)\n",
    "plt.show()"
   ]
  },
  {
   "cell_type": "code",
   "execution_count": 14,
   "id": "8012ceb6-8957-4c78-af64-dfd79f2dabff",
   "metadata": {},
   "outputs": [
    {
     "data": {
      "text/plain": [
       "[[2, 3, 4], [], []]"
      ]
     },
     "execution_count": 14,
     "metadata": {},
     "output_type": "execute_result"
    }
   ],
   "source": [
    "gDATA = []\n",
    "gDATA.append([])\n",
    "gDATA.append([])\n",
    "gDATA.append([])\n",
    "gDATA[0].append(1)\n",
    "gDATA[0].append(2)\n",
    "gDATA[0].append(3)\n",
    "gDATA[0].append(4)\n",
    "gDATA[0].pop(0)\n",
    "gDATA\n"
   ]
  },
  {
   "cell_type": "code",
   "execution_count": 1,
   "id": "e36137e1-d06d-4009-ae25-1f678b1ce52b",
   "metadata": {},
   "outputs": [
    {
     "ename": "TclError",
     "evalue": "invalid command name \".!canvas\"",
     "output_type": "error",
     "traceback": [
      "\u001b[1;31m---------------------------------------------------------------------------\u001b[0m",
      "\u001b[1;31mTclError\u001b[0m                                  Traceback (most recent call last)",
      "\u001b[1;32m~\\AppData\\Local\\Temp/ipykernel_15224/1108128826.py\u001b[0m in \u001b[0;36m<module>\u001b[1;34m\u001b[0m\n\u001b[0;32m     54\u001b[0m \u001b[0mAnimation_Window\u001b[0m \u001b[1;33m=\u001b[0m \u001b[0mcreate_animation_window\u001b[0m\u001b[1;33m(\u001b[0m\u001b[1;33m)\u001b[0m\u001b[1;33m\u001b[0m\u001b[1;33m\u001b[0m\u001b[0m\n\u001b[0;32m     55\u001b[0m \u001b[0mAnimation_canvas\u001b[0m \u001b[1;33m=\u001b[0m \u001b[0mcreate_animation_canvas\u001b[0m\u001b[1;33m(\u001b[0m\u001b[0mAnimation_Window\u001b[0m\u001b[1;33m)\u001b[0m\u001b[1;33m\u001b[0m\u001b[1;33m\u001b[0m\u001b[0m\n\u001b[1;32m---> 56\u001b[1;33m \u001b[0manimate_ball\u001b[0m\u001b[1;33m(\u001b[0m\u001b[0mAnimation_Window\u001b[0m\u001b[1;33m,\u001b[0m\u001b[0mAnimation_canvas\u001b[0m\u001b[1;33m,\u001b[0m \u001b[0mBall_min_movement\u001b[0m\u001b[1;33m,\u001b[0m \u001b[0mBall_min_movement\u001b[0m\u001b[1;33m)\u001b[0m\u001b[1;33m\u001b[0m\u001b[1;33m\u001b[0m\u001b[0m\n\u001b[0m",
      "\u001b[1;32m~\\AppData\\Local\\Temp/ipykernel_15224/1108128826.py\u001b[0m in \u001b[0;36manimate_ball\u001b[1;34m(Window, canvas, xinc, yinc)\u001b[0m\n\u001b[0;32m     43\u001b[0m     \u001b[0mWindow\u001b[0m\u001b[1;33m.\u001b[0m\u001b[0mupdate\u001b[0m\u001b[1;33m(\u001b[0m\u001b[1;33m)\u001b[0m\u001b[1;33m\u001b[0m\u001b[1;33m\u001b[0m\u001b[0m\n\u001b[0;32m     44\u001b[0m     \u001b[0mtime\u001b[0m\u001b[1;33m.\u001b[0m\u001b[0msleep\u001b[0m\u001b[1;33m(\u001b[0m\u001b[0mRefresh_Sec\u001b[0m\u001b[1;33m)\u001b[0m\u001b[1;33m\u001b[0m\u001b[1;33m\u001b[0m\u001b[0m\n\u001b[1;32m---> 45\u001b[1;33m     \u001b[0mball_pos\u001b[0m \u001b[1;33m=\u001b[0m \u001b[0mcanvas\u001b[0m\u001b[1;33m.\u001b[0m\u001b[0mcoords\u001b[0m\u001b[1;33m(\u001b[0m\u001b[0mball\u001b[0m\u001b[1;33m)\u001b[0m\u001b[1;33m\u001b[0m\u001b[1;33m\u001b[0m\u001b[0m\n\u001b[0m\u001b[0;32m     46\u001b[0m     \u001b[1;31m# unpack array to variables\u001b[0m\u001b[1;33m\u001b[0m\u001b[1;33m\u001b[0m\u001b[0m\n\u001b[0;32m     47\u001b[0m     \u001b[0mal\u001b[0m\u001b[1;33m,\u001b[0m\u001b[0mbl\u001b[0m\u001b[1;33m,\u001b[0m\u001b[0mar\u001b[0m\u001b[1;33m,\u001b[0m\u001b[0mbr\u001b[0m \u001b[1;33m=\u001b[0m \u001b[0mball_pos\u001b[0m\u001b[1;33m\u001b[0m\u001b[1;33m\u001b[0m\u001b[0m\n",
      "\u001b[1;32m~\\anaconda3\\lib\\tkinter\\__init__.py\u001b[0m in \u001b[0;36mcoords\u001b[1;34m(self, *args)\u001b[0m\n\u001b[0;32m   2764\u001b[0m         return [self.tk.getdouble(x) for x in\n\u001b[0;32m   2765\u001b[0m                            self.tk.splitlist(\n\u001b[1;32m-> 2766\u001b[1;33m                    self.tk.call((self._w, 'coords') + args))]\n\u001b[0m\u001b[0;32m   2767\u001b[0m \u001b[1;33m\u001b[0m\u001b[0m\n\u001b[0;32m   2768\u001b[0m     \u001b[1;32mdef\u001b[0m \u001b[0m_create\u001b[0m\u001b[1;33m(\u001b[0m\u001b[0mself\u001b[0m\u001b[1;33m,\u001b[0m \u001b[0mitemType\u001b[0m\u001b[1;33m,\u001b[0m \u001b[0margs\u001b[0m\u001b[1;33m,\u001b[0m \u001b[0mkw\u001b[0m\u001b[1;33m)\u001b[0m\u001b[1;33m:\u001b[0m \u001b[1;31m# Args: (val, val, ..., cnf={})\u001b[0m\u001b[1;33m\u001b[0m\u001b[1;33m\u001b[0m\u001b[0m\n",
      "\u001b[1;31mTclError\u001b[0m: invalid command name \".!canvas\""
     ]
    }
   ],
   "source": [
    "import tkinter\n",
    "import time\n",
    " \n",
    "\n",
    "Window_Width=800\n",
    "\n",
    "Window_Height=600\n",
    "\n",
    "Ball_Start_XPosition = 50\n",
    "\n",
    "Ball_Start_YPosition = 50\n",
    "\n",
    "Ball_Radius = 30\n",
    "\n",
    "Ball_min_movement = 5\n",
    "\n",
    "Refresh_Sec = 0.01\n",
    " \n",
    "\n",
    "def create_animation_window():\n",
    "  Window = tkinter.Tk()\n",
    "  Window.title(\"Python Guides\")\n",
    "\n",
    "  Window.geometry(f'{Window_Width}x{Window_Height}')\n",
    "  return Window\n",
    " \n",
    "\n",
    "def create_animation_canvas(Window):\n",
    "  canvas = tkinter.Canvas(Window)\n",
    "  canvas.configure(bg=\"Blue\")\n",
    "  canvas.pack(fill=\"both\", expand=True)\n",
    "  return canvas\n",
    " \n",
    "\n",
    "def animate_ball(Window, canvas,xinc,yinc):\n",
    "  ball = canvas.create_oval(Ball_Start_XPosition-Ball_Radius,\n",
    "            Ball_Start_YPosition-Ball_Radius,\n",
    "            Ball_Start_XPosition+Ball_Radius,\n",
    "            Ball_Start_YPosition+Ball_Radius,\n",
    "            fill=\"Red\", outline=\"Black\", width=4)\n",
    "  while True:\n",
    "    canvas.move(ball,xinc,yinc)\n",
    "    Window.update()\n",
    "    time.sleep(Refresh_Sec)\n",
    "    ball_pos = canvas.coords(ball)\n",
    "    # unpack array to variables\n",
    "    al,bl,ar,br = ball_pos\n",
    "    if al < abs(xinc) or ar > Window_Width-abs(xinc):\n",
    "      xinc = -xinc\n",
    "    if bl < abs(yinc) or br > Window_Height-abs(yinc):\n",
    "      yinc = -yinc\n",
    " \n",
    "\n",
    "Animation_Window = create_animation_window()\n",
    "Animation_canvas = create_animation_canvas(Animation_Window)\n",
    "animate_ball(Animation_Window,Animation_canvas, Ball_min_movement, Ball_min_movement)"
   ]
  },
  {
   "cell_type": "code",
   "execution_count": 6,
   "id": "ea797900-05a5-4ba9-abaa-a85cdd73208a",
   "metadata": {},
   "outputs": [
    {
     "data": {
      "text/plain": [
       "'08-10-2022, 11;23;08'"
      ]
     },
     "execution_count": 6,
     "metadata": {},
     "output_type": "execute_result"
    }
   ],
   "source": [
    "from datetime import date\n",
    "from datetime import datetime\n",
    "\n",
    "format=datetime.now().strftime('%d-%m-%Y, %H;%M;%S')\n",
    "format"
   ]
  },
  {
   "cell_type": "code",
   "execution_count": 41,
   "id": "70a5575c-7c45-4f4b-ba96-3bd304b90449",
   "metadata": {},
   "outputs": [],
   "source": [
    "#---------Imports\n",
    "from numpy import arange, sin, pi\n",
    "from matplotlib.backends.backend_tkagg import FigureCanvasTkAgg\n",
    "from matplotlib.figure import Figure\n",
    "import tkinter as Tk\n",
    "import numpy as np\n",
    "import matplotlib.pyplot as plt\n",
    "import matplotlib.animation as animation\n",
    "#---------End of imports\n",
    "\n",
    "fig = plt.Figure()\n",
    "\n",
    "x = np.arange(0, 2*np.pi, 0.01)        # x-array\n",
    "\n",
    "def animate(i):\n",
    "    line.set_ydata(np.sin(x+i/10.0))  # update the data\n",
    "    return line,\n",
    "\n",
    "root = Tk.Tk()\n",
    "\n",
    "label = Tk.Label(root,text=\"SHM Simulation\").grid(column=0, row=0)\n",
    "\n",
    "canvas1 = FigureCanvasTkAgg(fig, master=root)\n",
    "canvas.get_tk_widget().grid(column=0,row=1)\n",
    "\n",
    "ax = fig.add_subplot(111)\n",
    "line, = ax.plot(x, np.sin(x))\n",
    "ani = animation.FuncAnimation(fig, animate, np.arange(1, 200), interval=25, blit=False)\n",
    "\n",
    "Tk.mainloop()"
   ]
  },
  {
   "cell_type": "code",
   "execution_count": null,
   "id": "2b6c92a1-3e66-475b-9048-625a67086ada",
   "metadata": {},
   "outputs": [],
   "source": []
  }
 ],
 "metadata": {
  "kernelspec": {
   "display_name": "Python 3 (ipykernel)",
   "language": "python",
   "name": "python3"
  },
  "language_info": {
   "codemirror_mode": {
    "name": "ipython",
    "version": 3
   },
   "file_extension": ".py",
   "mimetype": "text/x-python",
   "name": "python",
   "nbconvert_exporter": "python",
   "pygments_lexer": "ipython3",
   "version": "3.9.7"
  }
 },
 "nbformat": 4,
 "nbformat_minor": 5
}
